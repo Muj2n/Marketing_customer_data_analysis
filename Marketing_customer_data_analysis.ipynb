{
  "cells": [
    {
      "cell_type": "markdown",
      "metadata": {
        "id": "7fadf0Ot5zWd"
      },
      "source": [
        "# 고객 데이터 분석\n",
        "### 데이터 출처 : UCI Machine Learning Repository"
      ]
    },
    {
      "cell_type": "markdown",
      "metadata": {
        "id": "gdO7KmgM5zWi"
      },
      "source": [
        "[링크주소 및 다운로드]https://archive.ics.uci.edu/ml/datasets/bank+marketing\n",
        "<br>\n",
        "\n",
        "#### Moro, S., Cortez, P., & Rita, P. (2014). A data-driven approach to predict the success of bank telemarketing. Decision Support Systems, 62, 22-31"
      ]
    },
    {
      "cell_type": "markdown",
      "metadata": {
        "id": "PyxSjt1D5zWj"
      },
      "source": [
        "# <데이터 소개>\n",
        "- 해외의 은행이 진행한 마케팅 데이터\n",
        "- 아웃바운드 텔레마케팅으로 마케팅 캠페인을 진행"
      ]
    },
    {
      "cell_type": "markdown",
      "metadata": {
        "id": "zH6jvqeo5zWk"
      },
      "source": [
        "# bank client data:\n",
        "1 - age (numeric)<br>\n",
        "2 - job : type of job (categorical: 'admin.','blue-collar','entrepreneur','housemaid','management','retired','self-employed','services','student','technician','unemployed','unknown')<br>\n",
        "3 - marital : marital status (categorical: 'divorced','married','single','unknown'; note: 'divorced' means divorced or widowed)<br>\n",
        "4 - education (categorical: 'basic.4y','basic.6y','basic.9y','high.school','illiterate','professional.course','university.degree','unknown')<br>\n",
        "5 - default: has credit in default? (categorical: 'no','yes','unknown')<br>\n",
        "6 - housing: has housing loan? (categorical: 'no','yes','unknown')<br>\n",
        "7 - loan: has personal loan? (categorical: 'no','yes','unknown')<br>\n",
        "\n",
        "# related with the last contact of the current campaign:\n",
        "8 - contact: contact communication type (categorical: 'cellular','telephone') <br>\n",
        "9 - month: last contact month of year (categorical: 'jan', 'feb', 'mar', ..., 'nov', 'dec')<br>\n",
        "10 - day_of_week: last contact day of the week (categorical: 'mon','tue','wed','thu','fri')<br>\n",
        "11 - duration: last contact duration, in seconds (numeric). <br>\n",
        "# other attributes:\n",
        "12 - campaign: number of contacts performed during this campaign and for this client (numeric, includes last contact)<br>\n",
        "13 - pdays: number of days that passed by after the client was last contacted from a previous campaign (numeric; 999 means client was not previously contacted)<br>\n",
        "14 - previous: number of contacts performed before this campaign and for this client (numeric)<br>\n",
        "15 - poutcome: outcome of the previous marketing campaign (categorical: 'failure','nonexistent','success')<br>\n",
        "# social and economic context attributes\n",
        "16 - emp.var.rate: employment variation rate - quarterly indicator (numeric)<br>\n",
        "17 - cons.price.idx: consumer price index - monthly indicator (numeric) <br>\n",
        "18 - cons.conf.idx: consumer confidence index - monthly indicator (numeric) <br>\n",
        "19 - euribor3m: euribor 3 month rate - daily indicator (numeric)<br>\n",
        "20 - nr.employed: number of employees - quarterly indicator (numeric)<br>\n",
        "\n",
        "# Output variable:\n",
        "21 - y - has the client subscribed a term deposit? (binary: 'yes','no')<br>\n",
        "\n"
      ]
    },
    {
      "cell_type": "code",
      "execution_count": null,
      "metadata": {
        "id": "GHED4AIP5zWl"
      },
      "outputs": [],
      "source": [
        "import pandas as pd\n",
        "from pandas import Series\n",
        "from pandas import DataFrame"
      ]
    },
    {
      "cell_type": "code",
      "execution_count": null,
      "metadata": {
        "id": "7c2V2MFI5zWn"
      },
      "outputs": [],
      "source": [
        "import matplotlib.pyplot as plt"
      ]
    },
    {
      "cell_type": "code",
      "execution_count": null,
      "metadata": {
        "id": "VRMiwbMf5zWo"
      },
      "outputs": [],
      "source": [
        "# matplotlib 한글 폰트 출력코드\n",
        "# 출처 : 데이터공방( https://kiddwannabe.blog.me)\n",
        "\n",
        "import matplotlib\n",
        "from matplotlib import font_manager, rc\n",
        "import platform\n",
        "\n",
        "try : \n",
        "    if platform.system() == 'Windows':\n",
        "    # 윈도우인 경우\n",
        "        font_name = font_manager.FontProperties(fname=\"c:/Windows/Fonts/malgun.ttf\").get_name()\n",
        "        rc('font', family=font_name)\n",
        "    else:    \n",
        "    # Mac 인 경우\n",
        "        rc('font', family='AppleGothic')\n",
        "except : \n",
        "    pass\n",
        "matplotlib.rcParams['axes.unicode_minus'] = False   "
      ]
    },
    {
      "cell_type": "markdown",
      "metadata": {
        "id": "aNPqlyyf5zWp"
      },
      "source": [
        "# 데이터불러오기\n",
        " 파일명 : bank-additional-full.csv"
      ]
    },
    {
      "cell_type": "code",
      "execution_count": null,
      "metadata": {
        "id": "g_g9K6KT5zWr"
      },
      "outputs": [],
      "source": [
        "df=pd.read_csv(r'C:/Users/bank-additional-full.csv',\n",
        "                 engine='python')"
      ]
    },
    {
      "cell_type": "code",
      "execution_count": null,
      "metadata": {
        "id": "njVCENNA5zWu",
        "outputId": "cc65009e-3498-407e-f57e-cf7788dc2041"
      },
      "outputs": [
        {
          "data": {
            "text/html": [
              "<div>\n",
              "<style scoped>\n",
              "    .dataframe tbody tr th:only-of-type {\n",
              "        vertical-align: middle;\n",
              "    }\n",
              "\n",
              "    .dataframe tbody tr th {\n",
              "        vertical-align: top;\n",
              "    }\n",
              "\n",
              "    .dataframe thead th {\n",
              "        text-align: right;\n",
              "    }\n",
              "</style>\n",
              "<table border=\"1\" class=\"dataframe\">\n",
              "  <thead>\n",
              "    <tr style=\"text-align: right;\">\n",
              "      <th></th>\n",
              "      <th>age</th>\n",
              "      <th>job</th>\n",
              "      <th>marital</th>\n",
              "      <th>education</th>\n",
              "      <th>default</th>\n",
              "      <th>housing</th>\n",
              "      <th>loan</th>\n",
              "      <th>contact</th>\n",
              "      <th>month</th>\n",
              "      <th>day_of_week</th>\n",
              "      <th>...</th>\n",
              "      <th>campaign</th>\n",
              "      <th>pdays</th>\n",
              "      <th>previous</th>\n",
              "      <th>poutcome</th>\n",
              "      <th>emp.var.rate</th>\n",
              "      <th>cons.price.idx</th>\n",
              "      <th>cons.conf.idx</th>\n",
              "      <th>euribor3m</th>\n",
              "      <th>nr.employed</th>\n",
              "      <th>y</th>\n",
              "    </tr>\n",
              "  </thead>\n",
              "  <tbody>\n",
              "    <tr>\n",
              "      <th>0</th>\n",
              "      <td>56</td>\n",
              "      <td>housemaid</td>\n",
              "      <td>married</td>\n",
              "      <td>basic.4y</td>\n",
              "      <td>no</td>\n",
              "      <td>no</td>\n",
              "      <td>no</td>\n",
              "      <td>telephone</td>\n",
              "      <td>may</td>\n",
              "      <td>mon</td>\n",
              "      <td>...</td>\n",
              "      <td>1</td>\n",
              "      <td>999</td>\n",
              "      <td>0</td>\n",
              "      <td>nonexistent</td>\n",
              "      <td>1.1</td>\n",
              "      <td>93.994</td>\n",
              "      <td>-36.4</td>\n",
              "      <td>4.857</td>\n",
              "      <td>5191.0</td>\n",
              "      <td>no</td>\n",
              "    </tr>\n",
              "    <tr>\n",
              "      <th>1</th>\n",
              "      <td>57</td>\n",
              "      <td>services</td>\n",
              "      <td>married</td>\n",
              "      <td>high.school</td>\n",
              "      <td>unknown</td>\n",
              "      <td>no</td>\n",
              "      <td>no</td>\n",
              "      <td>telephone</td>\n",
              "      <td>may</td>\n",
              "      <td>mon</td>\n",
              "      <td>...</td>\n",
              "      <td>1</td>\n",
              "      <td>999</td>\n",
              "      <td>0</td>\n",
              "      <td>nonexistent</td>\n",
              "      <td>1.1</td>\n",
              "      <td>93.994</td>\n",
              "      <td>-36.4</td>\n",
              "      <td>4.857</td>\n",
              "      <td>5191.0</td>\n",
              "      <td>no</td>\n",
              "    </tr>\n",
              "    <tr>\n",
              "      <th>2</th>\n",
              "      <td>37</td>\n",
              "      <td>services</td>\n",
              "      <td>married</td>\n",
              "      <td>high.school</td>\n",
              "      <td>no</td>\n",
              "      <td>yes</td>\n",
              "      <td>no</td>\n",
              "      <td>telephone</td>\n",
              "      <td>may</td>\n",
              "      <td>mon</td>\n",
              "      <td>...</td>\n",
              "      <td>1</td>\n",
              "      <td>999</td>\n",
              "      <td>0</td>\n",
              "      <td>nonexistent</td>\n",
              "      <td>1.1</td>\n",
              "      <td>93.994</td>\n",
              "      <td>-36.4</td>\n",
              "      <td>4.857</td>\n",
              "      <td>5191.0</td>\n",
              "      <td>no</td>\n",
              "    </tr>\n",
              "    <tr>\n",
              "      <th>3</th>\n",
              "      <td>40</td>\n",
              "      <td>admin.</td>\n",
              "      <td>married</td>\n",
              "      <td>basic.6y</td>\n",
              "      <td>no</td>\n",
              "      <td>no</td>\n",
              "      <td>no</td>\n",
              "      <td>telephone</td>\n",
              "      <td>may</td>\n",
              "      <td>mon</td>\n",
              "      <td>...</td>\n",
              "      <td>1</td>\n",
              "      <td>999</td>\n",
              "      <td>0</td>\n",
              "      <td>nonexistent</td>\n",
              "      <td>1.1</td>\n",
              "      <td>93.994</td>\n",
              "      <td>-36.4</td>\n",
              "      <td>4.857</td>\n",
              "      <td>5191.0</td>\n",
              "      <td>no</td>\n",
              "    </tr>\n",
              "    <tr>\n",
              "      <th>4</th>\n",
              "      <td>56</td>\n",
              "      <td>services</td>\n",
              "      <td>married</td>\n",
              "      <td>high.school</td>\n",
              "      <td>no</td>\n",
              "      <td>no</td>\n",
              "      <td>yes</td>\n",
              "      <td>telephone</td>\n",
              "      <td>may</td>\n",
              "      <td>mon</td>\n",
              "      <td>...</td>\n",
              "      <td>1</td>\n",
              "      <td>999</td>\n",
              "      <td>0</td>\n",
              "      <td>nonexistent</td>\n",
              "      <td>1.1</td>\n",
              "      <td>93.994</td>\n",
              "      <td>-36.4</td>\n",
              "      <td>4.857</td>\n",
              "      <td>5191.0</td>\n",
              "      <td>no</td>\n",
              "    </tr>\n",
              "  </tbody>\n",
              "</table>\n",
              "<p>5 rows × 21 columns</p>\n",
              "</div>"
            ],
            "text/plain": [
              "   age        job  marital    education  default housing loan    contact  \\\n",
              "0   56  housemaid  married     basic.4y       no      no   no  telephone   \n",
              "1   57   services  married  high.school  unknown      no   no  telephone   \n",
              "2   37   services  married  high.school       no     yes   no  telephone   \n",
              "3   40     admin.  married     basic.6y       no      no   no  telephone   \n",
              "4   56   services  married  high.school       no      no  yes  telephone   \n",
              "\n",
              "  month day_of_week ...  campaign  pdays  previous     poutcome emp.var.rate  \\\n",
              "0   may         mon ...         1    999         0  nonexistent          1.1   \n",
              "1   may         mon ...         1    999         0  nonexistent          1.1   \n",
              "2   may         mon ...         1    999         0  nonexistent          1.1   \n",
              "3   may         mon ...         1    999         0  nonexistent          1.1   \n",
              "4   may         mon ...         1    999         0  nonexistent          1.1   \n",
              "\n",
              "   cons.price.idx  cons.conf.idx  euribor3m  nr.employed   y  \n",
              "0          93.994          -36.4      4.857       5191.0  no  \n",
              "1          93.994          -36.4      4.857       5191.0  no  \n",
              "2          93.994          -36.4      4.857       5191.0  no  \n",
              "3          93.994          -36.4      4.857       5191.0  no  \n",
              "4          93.994          -36.4      4.857       5191.0  no  \n",
              "\n",
              "[5 rows x 21 columns]"
            ]
          },
          "execution_count": 11,
          "metadata": {},
          "output_type": "execute_result"
        }
      ],
      "source": [
        "df.head()"
      ]
    },
    {
      "cell_type": "markdown",
      "metadata": {
        "id": "na8uwWqO5zWx"
      },
      "source": [
        "# 결측치 확인"
      ]
    },
    {
      "cell_type": "code",
      "execution_count": null,
      "metadata": {
        "id": "9eyJKZPV5zWy",
        "outputId": "4fab5e3a-f6c3-4423-a4d7-5f4f47dd0069"
      },
      "outputs": [
        {
          "data": {
            "text/plain": [
              "age               0\n",
              "job               0\n",
              "marital           0\n",
              "education         0\n",
              "default           0\n",
              "housing           0\n",
              "loan              0\n",
              "contact           0\n",
              "month             0\n",
              "day_of_week       0\n",
              "duration          0\n",
              "campaign          0\n",
              "pdays             0\n",
              "previous          0\n",
              "poutcome          0\n",
              "emp.var.rate      0\n",
              "cons.price.idx    0\n",
              "cons.conf.idx     0\n",
              "euribor3m         0\n",
              "nr.employed       0\n",
              "y                 0\n",
              "dtype: int64"
            ]
          },
          "execution_count": 19,
          "metadata": {},
          "output_type": "execute_result"
        }
      ],
      "source": [
        "# 결측치 확인 - 열단위\n",
        "df.isnull().sum()"
      ]
    },
    {
      "cell_type": "code",
      "execution_count": null,
      "metadata": {
        "scrolled": true,
        "id": "ijGHz-Ci5zWy",
        "outputId": "fe079a40-eb88-4f68-9af8-26bf1f9015d2"
      },
      "outputs": [
        {
          "data": {
            "text/plain": [
              "(41188, 21)"
            ]
          },
          "execution_count": 20,
          "metadata": {},
          "output_type": "execute_result"
        }
      ],
      "source": [
        "#shape - dataframe의 크기(행, 열의 수)\n",
        "df.shape"
      ]
    },
    {
      "cell_type": "code",
      "execution_count": null,
      "metadata": {
        "scrolled": false,
        "id": "GwJixc8n5zWy",
        "outputId": "0b1a5867-ef93-4aa4-f62b-29a736978b8f"
      },
      "outputs": [
        {
          "data": {
            "text/html": [
              "<div>\n",
              "<style scoped>\n",
              "    .dataframe tbody tr th:only-of-type {\n",
              "        vertical-align: middle;\n",
              "    }\n",
              "\n",
              "    .dataframe tbody tr th {\n",
              "        vertical-align: top;\n",
              "    }\n",
              "\n",
              "    .dataframe thead th {\n",
              "        text-align: right;\n",
              "    }\n",
              "</style>\n",
              "<table border=\"1\" class=\"dataframe\">\n",
              "  <thead>\n",
              "    <tr style=\"text-align: right;\">\n",
              "      <th></th>\n",
              "      <th>age</th>\n",
              "      <th>duration</th>\n",
              "      <th>campaign</th>\n",
              "      <th>pdays</th>\n",
              "      <th>previous</th>\n",
              "      <th>emp.var.rate</th>\n",
              "      <th>cons.price.idx</th>\n",
              "      <th>cons.conf.idx</th>\n",
              "      <th>euribor3m</th>\n",
              "      <th>nr.employed</th>\n",
              "    </tr>\n",
              "  </thead>\n",
              "  <tbody>\n",
              "    <tr>\n",
              "      <th>count</th>\n",
              "      <td>41188.00000</td>\n",
              "      <td>41188.000000</td>\n",
              "      <td>41188.000000</td>\n",
              "      <td>41188.000000</td>\n",
              "      <td>41188.000000</td>\n",
              "      <td>41188.000000</td>\n",
              "      <td>41188.000000</td>\n",
              "      <td>41188.000000</td>\n",
              "      <td>41188.000000</td>\n",
              "      <td>41188.000000</td>\n",
              "    </tr>\n",
              "    <tr>\n",
              "      <th>mean</th>\n",
              "      <td>40.02406</td>\n",
              "      <td>258.285010</td>\n",
              "      <td>2.567593</td>\n",
              "      <td>962.475454</td>\n",
              "      <td>0.172963</td>\n",
              "      <td>0.081886</td>\n",
              "      <td>93.575664</td>\n",
              "      <td>-40.502600</td>\n",
              "      <td>3.621291</td>\n",
              "      <td>5167.035911</td>\n",
              "    </tr>\n",
              "    <tr>\n",
              "      <th>std</th>\n",
              "      <td>10.42125</td>\n",
              "      <td>259.279249</td>\n",
              "      <td>2.770014</td>\n",
              "      <td>186.910907</td>\n",
              "      <td>0.494901</td>\n",
              "      <td>1.570960</td>\n",
              "      <td>0.578840</td>\n",
              "      <td>4.628198</td>\n",
              "      <td>1.734447</td>\n",
              "      <td>72.251528</td>\n",
              "    </tr>\n",
              "    <tr>\n",
              "      <th>min</th>\n",
              "      <td>17.00000</td>\n",
              "      <td>0.000000</td>\n",
              "      <td>1.000000</td>\n",
              "      <td>0.000000</td>\n",
              "      <td>0.000000</td>\n",
              "      <td>-3.400000</td>\n",
              "      <td>92.201000</td>\n",
              "      <td>-50.800000</td>\n",
              "      <td>0.634000</td>\n",
              "      <td>4963.600000</td>\n",
              "    </tr>\n",
              "    <tr>\n",
              "      <th>25%</th>\n",
              "      <td>32.00000</td>\n",
              "      <td>102.000000</td>\n",
              "      <td>1.000000</td>\n",
              "      <td>999.000000</td>\n",
              "      <td>0.000000</td>\n",
              "      <td>-1.800000</td>\n",
              "      <td>93.075000</td>\n",
              "      <td>-42.700000</td>\n",
              "      <td>1.344000</td>\n",
              "      <td>5099.100000</td>\n",
              "    </tr>\n",
              "    <tr>\n",
              "      <th>50%</th>\n",
              "      <td>38.00000</td>\n",
              "      <td>180.000000</td>\n",
              "      <td>2.000000</td>\n",
              "      <td>999.000000</td>\n",
              "      <td>0.000000</td>\n",
              "      <td>1.100000</td>\n",
              "      <td>93.749000</td>\n",
              "      <td>-41.800000</td>\n",
              "      <td>4.857000</td>\n",
              "      <td>5191.000000</td>\n",
              "    </tr>\n",
              "    <tr>\n",
              "      <th>75%</th>\n",
              "      <td>47.00000</td>\n",
              "      <td>319.000000</td>\n",
              "      <td>3.000000</td>\n",
              "      <td>999.000000</td>\n",
              "      <td>0.000000</td>\n",
              "      <td>1.400000</td>\n",
              "      <td>93.994000</td>\n",
              "      <td>-36.400000</td>\n",
              "      <td>4.961000</td>\n",
              "      <td>5228.100000</td>\n",
              "    </tr>\n",
              "    <tr>\n",
              "      <th>max</th>\n",
              "      <td>98.00000</td>\n",
              "      <td>4918.000000</td>\n",
              "      <td>56.000000</td>\n",
              "      <td>999.000000</td>\n",
              "      <td>7.000000</td>\n",
              "      <td>1.400000</td>\n",
              "      <td>94.767000</td>\n",
              "      <td>-26.900000</td>\n",
              "      <td>5.045000</td>\n",
              "      <td>5228.100000</td>\n",
              "    </tr>\n",
              "  </tbody>\n",
              "</table>\n",
              "</div>"
            ],
            "text/plain": [
              "               age      duration      campaign         pdays      previous  \\\n",
              "count  41188.00000  41188.000000  41188.000000  41188.000000  41188.000000   \n",
              "mean      40.02406    258.285010      2.567593    962.475454      0.172963   \n",
              "std       10.42125    259.279249      2.770014    186.910907      0.494901   \n",
              "min       17.00000      0.000000      1.000000      0.000000      0.000000   \n",
              "25%       32.00000    102.000000      1.000000    999.000000      0.000000   \n",
              "50%       38.00000    180.000000      2.000000    999.000000      0.000000   \n",
              "75%       47.00000    319.000000      3.000000    999.000000      0.000000   \n",
              "max       98.00000   4918.000000     56.000000    999.000000      7.000000   \n",
              "\n",
              "       emp.var.rate  cons.price.idx  cons.conf.idx     euribor3m   nr.employed  \n",
              "count  41188.000000    41188.000000   41188.000000  41188.000000  41188.000000  \n",
              "mean       0.081886       93.575664     -40.502600      3.621291   5167.035911  \n",
              "std        1.570960        0.578840       4.628198      1.734447     72.251528  \n",
              "min       -3.400000       92.201000     -50.800000      0.634000   4963.600000  \n",
              "25%       -1.800000       93.075000     -42.700000      1.344000   5099.100000  \n",
              "50%        1.100000       93.749000     -41.800000      4.857000   5191.000000  \n",
              "75%        1.400000       93.994000     -36.400000      4.961000   5228.100000  \n",
              "max        1.400000       94.767000     -26.900000      5.045000   5228.100000  "
            ]
          },
          "execution_count": 21,
          "metadata": {},
          "output_type": "execute_result"
        }
      ],
      "source": [
        "#describe() - 열에 대한 기술통계량\n",
        "#데이터의 수, 평균, 표준편차, 최소값, 1사분위수, 2사분위수, 3사분위수, 최대값\n",
        "df.describe()"
      ]
    },
    {
      "cell_type": "code",
      "execution_count": null,
      "metadata": {
        "scrolled": false,
        "id": "s2ZInCBa5zWz",
        "outputId": "ba4699f9-559b-496f-9937-18efeeb92c19"
      },
      "outputs": [
        {
          "data": {
            "text/plain": [
              "Index(['age', 'job', 'marital', 'education', 'default', 'housing', 'loan',\n",
              "       'contact', 'month', 'day_of_week', 'duration', 'campaign', 'pdays',\n",
              "       'previous', 'poutcome', 'emp.var.rate', 'cons.price.idx',\n",
              "       'cons.conf.idx', 'euribor3m', 'nr.employed', 'y'],\n",
              "      dtype='object')"
            ]
          },
          "execution_count": 22,
          "metadata": {},
          "output_type": "execute_result"
        }
      ],
      "source": [
        "#columns - 칼럼명 반환\n",
        "df.columns"
      ]
    },
    {
      "cell_type": "code",
      "execution_count": null,
      "metadata": {
        "id": "uLqty6fz5zWz",
        "outputId": "f6c6dc8f-634a-42ae-9733-e35d77c8a406"
      },
      "outputs": [
        {
          "data": {
            "text/plain": [
              "array(['basic.4y', 'high.school', 'basic.6y', 'basic.9y',\n",
              "       'professional.course', 'unknown', 'university.degree',\n",
              "       'illiterate'], dtype=object)"
            ]
          },
          "execution_count": 23,
          "metadata": {},
          "output_type": "execute_result"
        }
      ],
      "source": [
        "#unique() - 열의 고유값\n",
        "#education\n",
        "df['education'].unique()"
      ]
    },
    {
      "cell_type": "code",
      "execution_count": null,
      "metadata": {
        "id": "KNivJEbt5zWz",
        "outputId": "8bcd4c84-af5b-4c63-9f81-2850c3c12671"
      },
      "outputs": [
        {
          "data": {
            "text/plain": [
              "university.degree      12168\n",
              "high.school             9515\n",
              "basic.9y                6045\n",
              "professional.course     5243\n",
              "basic.4y                4176\n",
              "basic.6y                2292\n",
              "unknown                 1731\n",
              "illiterate                18\n",
              "Name: education, dtype: int64"
            ]
          },
          "execution_count": 24,
          "metadata": {},
          "output_type": "execute_result"
        }
      ],
      "source": [
        "#value_counts() - 열의 고유값 빈도\n",
        "#education\n",
        "df['education'].value_counts()"
      ]
    },
    {
      "cell_type": "markdown",
      "metadata": {
        "id": "FKsLZA0b5zW0"
      },
      "source": [
        "# 데이터 시각화\n"
      ]
    },
    {
      "cell_type": "markdown",
      "metadata": {
        "id": "qcEGqRWI5zW1"
      },
      "source": [
        "- age 칼럼 선그래프 그리기(오름차순)\n",
        " 1. 노출수칼럼을 수치 순서대로 오름차순 정렬\n",
        " 2. 정렬된 데이터(시리즈)의 형태대로 인덱스 재생성 "
      ]
    },
    {
      "cell_type": "code",
      "execution_count": null,
      "metadata": {
        "id": "PPZoeDX65zW1"
      },
      "outputs": [],
      "source": [
        "#오름차순 정렬\n",
        "#age칼럼 \n",
        "age=df['age'].sort_values()"
      ]
    },
    {
      "cell_type": "code",
      "execution_count": null,
      "metadata": {
        "id": "_FdVL4Hl5zW2"
      },
      "outputs": [],
      "source": [
        "#reset_index - 인덱스 재생성, 기존 인덱스를 데이터프레임의 열로 반환\n",
        "age=age.reset_index()"
      ]
    },
    {
      "cell_type": "code",
      "execution_count": null,
      "metadata": {
        "id": "v8F4C93n5zW2"
      },
      "outputs": [],
      "source": [
        "#drop(axis=1) - 삭제(열 기준)\n",
        "age=age.drop('index',axis=1)"
      ]
    },
    {
      "cell_type": "code",
      "execution_count": null,
      "metadata": {
        "id": "lCXNYJC55zW3",
        "outputId": "fa9ffc2d-99a0-42c3-81e2-39253eb04bb5"
      },
      "outputs": [
        {
          "data": {
            "image/png": "[encoded data removed]",
            "text/plain": [
              "<Figure size 432x288 with 1 Axes>"
            ]
          },
          "metadata": {
            "needs_background": "light"
          },
          "output_type": "display_data"
        }
      ],
      "source": [
        "#plotting\n",
        "age.plot()\n",
        "plt.show()\n",
        "#값의 오름차순별로 정렬한 그래프\n",
        "#보통 '나이'를 20대,30대,40..대로 나누어 데이터를 확인함"
      ]
    },
    {
      "cell_type": "code",
      "execution_count": null,
      "metadata": {
        "scrolled": true,
        "id": "FAcxd-LR5zW3",
        "outputId": "eac1051a-0604-4a2a-b4d6-d84316b07858"
      },
      "outputs": [
        {
          "data": {
            "image/png": "[encoded data removed]",
            "text/plain": [
              "<Figure size 1080x576 with 1 Axes>"
            ]
          },
          "metadata": {
            "needs_background": "light"
          },
          "output_type": "display_data"
        }
      ],
      "source": [
        "#히스토그램\n",
        "#bins - 계급구간(10,20,30...100)\n",
        "#figsize=[15,8]\n",
        "#xticks(fontsize=15)\n",
        "#yticks(fontsize=15)\n",
        "#plt.title('Histogram of df.age',fontsize=20)\n",
        "\n",
        "df['age'].plot.hist(bins=range(10,101,10),figsize=[15,8])\n",
        "plt.xticks(fontsize=15)\n",
        "plt.yticks(fontsize=15)\n",
        "plt.title('Histogram of df.age',fontsize=20)\n",
        "plt.show()"
      ]
    },
    {
      "cell_type": "code",
      "execution_count": null,
      "metadata": {
        "id": "CrLFx35a5zW4",
        "outputId": "6b875c58-5f39-45e6-f355-9646a7b2688b"
      },
      "outputs": [
        {
          "data": {
            "image/png": "[encoded data removed]",
            "text/plain": [
              "<Figure size 432x288 with 1 Axes>"
            ]
          },
          "metadata": {
            "needs_background": "light"
          },
          "output_type": "display_data"
        }
      ],
      "source": [
        "#시각화 예제2 : duration(전화통화시간) 선 그래프 시각화\n",
        "(((df['duration'].sort_values()).reset_index()).drop('index',axis=1)).plot()\n",
        "plt.show()\n",
        "#1. 선그래프로 데이터의 패턴 분석\n",
        "#2. 히스토그램으로 전화통화 시간별 빈도 분석"
      ]
    },
    {
      "cell_type": "code",
      "execution_count": null,
      "metadata": {
        "id": "l4u8DO8f5zW4",
        "outputId": "15f7ee13-73c9-4644-a777-9e09a396280f"
      },
      "outputs": [
        {
          "data": {
            "text/plain": [
              "count    41188.000000\n",
              "mean       258.285010\n",
              "std        259.279249\n",
              "min          0.000000\n",
              "25%        102.000000\n",
              "50%        180.000000\n",
              "75%        319.000000\n",
              "max       4918.000000\n",
              "Name: duration, dtype: float64"
            ]
          },
          "execution_count": 39,
          "metadata": {},
          "output_type": "execute_result"
        }
      ],
      "source": [
        "#히스토그램의 계급구간을 설정하기 위한 최소값, 최대값 파악\n",
        "#describe()\n",
        "df['duration'].describe()"
      ]
    },
    {
      "cell_type": "code",
      "execution_count": null,
      "metadata": {
        "scrolled": true,
        "id": "Ys3KNHN05zW4",
        "outputId": "a48adbf9-b703-4805-9202-216c2bdb744d"
      },
      "outputs": [
        {
          "data": {
            "image/png": "[encoded data removed]",
            "text/plain": [
              "<Figure size 432x288 with 1 Axes>"
            ]
          },
          "metadata": {
            "needs_background": "light"
          },
          "output_type": "display_data"
        }
      ],
      "source": [
        "#bins=range(0,5001,100)\n",
        "df['duration'].plot.hist(bins=range(0,5001,100))\n",
        "plt.show()"
      ]
    },
    {
      "cell_type": "code",
      "execution_count": null,
      "metadata": {
        "scrolled": true,
        "id": "hGPBD6vM5zW5",
        "outputId": "3aa95044-0f32-4b72-bad1-526a94cec506"
      },
      "outputs": [
        {
          "data": {
            "image/png": "[encoded data removed]",
            "text/plain": [
              "<Figure size 1080x576 with 1 Axes>"
            ]
          },
          "metadata": {
            "needs_background": "light"
          },
          "output_type": "display_data"
        }
      ],
      "source": [
        "#히스토그램\n",
        "#bins - 계급구간(0,100,200...5000)\n",
        "#figsize=[15,8]\n",
        "#xticks(fontsize=15)\n",
        "#yticks(fontsize=15)\n",
        "#plt.title('Histogram of df.duration',fontsize=20)\n",
        "\n",
        "df['duration'].plot.hist(bins=range(0,5001,100), figsize=[15,8])\n",
        "plt.xticks(fontsize=15)\n",
        "plt.yticks(fontsize=15)\n",
        "plt.title('Histogram of df.duration',fontsize=20)\n",
        "plt.show()"
      ]
    },
    {
      "cell_type": "markdown",
      "metadata": {
        "id": "E6Fh7wil5zW9"
      },
      "source": [
        "# 데이터 분석"
      ]
    },
    {
      "cell_type": "markdown",
      "metadata": {
        "id": "ms48hf2h5zW-"
      },
      "source": [
        "# 분석주제 1 :\n",
        "### 대출이 있는 사람이라면 은행 상품에 잘 가입하지 않을 것이다.\n",
        "\n",
        "- 학습목표 : \n",
        " 1. 가설검증과정 코딩 실습하기\n",
        " 2. groupby활용한 실습 진행하기"
      ]
    },
    {
      "cell_type": "markdown",
      "metadata": {
        "id": "tgUaDzeZ5zW-"
      },
      "source": [
        "- 분석을 위한 코딩과정 도식화\n",
        " 1. 가입여부에 따라 가입한 그룹과 가입하지 않은 그룹으로 나눈다.\n",
        " 2. 나뉜 데이터를 대출여부에 따라 나눈다.\n",
        " 3. 가입한 그룹 중 대출이 있는 사람의 비중과, 가입하지 않은 그룹 중 대출이 있는 사람의 비중을 비교한다.\n",
        " \n",
        " <br><br>\n"
      ]
    },
    {
      "cell_type": "code",
      "execution_count": null,
      "metadata": {
        "id": "oMrXBSyF5zW_",
        "outputId": "c0fdf317-cce8-4359-85c7-344855e004a6"
      },
      "outputs": [
        {
          "data": {
            "text/plain": [
              "array(['no', 'yes'], dtype=object)"
            ]
          },
          "execution_count": 60,
          "metadata": {},
          "output_type": "execute_result"
        }
      ],
      "source": [
        "# 1. 가입여부에 따라 가입한 그룹과 가입하지 않은 그룹으로 나눈다.\n",
        "#가입여부에 대한 칼럼 : 'y'\n",
        "#unique()\n",
        "df['y'].unique()\n",
        "#groupby사용 - yes, no그룹으로 나뉘게 됨"
      ]
    },
    {
      "cell_type": "code",
      "execution_count": null,
      "metadata": {
        "id": "ZU2lVWAa5zW_"
      },
      "outputs": [],
      "source": [
        "# 1. 가입여부에 따라 가입한 그룹과 가입하지 않은 그룹으로 나눈다.\n",
        "#groupby('y')\n",
        "grouped=df.groupby('y')"
      ]
    },
    {
      "cell_type": "code",
      "execution_count": null,
      "metadata": {
        "id": "oBeXS-6z5zW_"
      },
      "outputs": [],
      "source": [
        "# 1. 가입여부에 따라 가입한 그룹과 가입하지 않은 그룹으로 나눈다.\n",
        "#get_group('yes') - y칼럼이 'yes'인 데이터프레임 추출 - 가입한 그룹만 추출\n",
        "#get_group('no') - y칼럼이 'no'인 데이터프레임 추출 - 가입하지 않은 그룹만 추출\n",
        "yes_group=grouped.get_group('yes')\n",
        "no_group=grouped.get_group('no')"
      ]
    },
    {
      "cell_type": "code",
      "execution_count": null,
      "metadata": {
        "scrolled": true,
        "id": "hlmfVmV85zW_",
        "outputId": "5fb7ad53-cfeb-4d27-f6f2-1fa3396e1740"
      },
      "outputs": [
        {
          "data": {
            "text/html": [
              "<div>\n",
              "<style scoped>\n",
              "    .dataframe tbody tr th:only-of-type {\n",
              "        vertical-align: middle;\n",
              "    }\n",
              "\n",
              "    .dataframe tbody tr th {\n",
              "        vertical-align: top;\n",
              "    }\n",
              "\n",
              "    .dataframe thead th {\n",
              "        text-align: right;\n",
              "    }\n",
              "</style>\n",
              "<table border=\"1\" class=\"dataframe\">\n",
              "  <thead>\n",
              "    <tr style=\"text-align: right;\">\n",
              "      <th></th>\n",
              "      <th>age</th>\n",
              "      <th>job</th>\n",
              "      <th>marital</th>\n",
              "      <th>education</th>\n",
              "      <th>default</th>\n",
              "      <th>housing</th>\n",
              "      <th>loan</th>\n",
              "      <th>contact</th>\n",
              "      <th>month</th>\n",
              "      <th>day_of_week</th>\n",
              "      <th>...</th>\n",
              "      <th>campaign</th>\n",
              "      <th>pdays</th>\n",
              "      <th>previous</th>\n",
              "      <th>poutcome</th>\n",
              "      <th>emp.var.rate</th>\n",
              "      <th>cons.price.idx</th>\n",
              "      <th>cons.conf.idx</th>\n",
              "      <th>euribor3m</th>\n",
              "      <th>nr.employed</th>\n",
              "      <th>y</th>\n",
              "    </tr>\n",
              "  </thead>\n",
              "  <tbody>\n",
              "    <tr>\n",
              "      <th>75</th>\n",
              "      <td>41</td>\n",
              "      <td>blue-collar</td>\n",
              "      <td>divorced</td>\n",
              "      <td>basic.4y</td>\n",
              "      <td>unknown</td>\n",
              "      <td>yes</td>\n",
              "      <td>no</td>\n",
              "      <td>telephone</td>\n",
              "      <td>may</td>\n",
              "      <td>mon</td>\n",
              "      <td>...</td>\n",
              "      <td>1</td>\n",
              "      <td>999</td>\n",
              "      <td>0</td>\n",
              "      <td>nonexistent</td>\n",
              "      <td>1.1</td>\n",
              "      <td>93.994</td>\n",
              "      <td>-36.4</td>\n",
              "      <td>4.857</td>\n",
              "      <td>5191.0</td>\n",
              "      <td>yes</td>\n",
              "    </tr>\n",
              "    <tr>\n",
              "      <th>83</th>\n",
              "      <td>49</td>\n",
              "      <td>entrepreneur</td>\n",
              "      <td>married</td>\n",
              "      <td>university.degree</td>\n",
              "      <td>unknown</td>\n",
              "      <td>yes</td>\n",
              "      <td>no</td>\n",
              "      <td>telephone</td>\n",
              "      <td>may</td>\n",
              "      <td>mon</td>\n",
              "      <td>...</td>\n",
              "      <td>1</td>\n",
              "      <td>999</td>\n",
              "      <td>0</td>\n",
              "      <td>nonexistent</td>\n",
              "      <td>1.1</td>\n",
              "      <td>93.994</td>\n",
              "      <td>-36.4</td>\n",
              "      <td>4.857</td>\n",
              "      <td>5191.0</td>\n",
              "      <td>yes</td>\n",
              "    </tr>\n",
              "    <tr>\n",
              "      <th>88</th>\n",
              "      <td>49</td>\n",
              "      <td>technician</td>\n",
              "      <td>married</td>\n",
              "      <td>basic.9y</td>\n",
              "      <td>no</td>\n",
              "      <td>no</td>\n",
              "      <td>no</td>\n",
              "      <td>telephone</td>\n",
              "      <td>may</td>\n",
              "      <td>mon</td>\n",
              "      <td>...</td>\n",
              "      <td>1</td>\n",
              "      <td>999</td>\n",
              "      <td>0</td>\n",
              "      <td>nonexistent</td>\n",
              "      <td>1.1</td>\n",
              "      <td>93.994</td>\n",
              "      <td>-36.4</td>\n",
              "      <td>4.857</td>\n",
              "      <td>5191.0</td>\n",
              "      <td>yes</td>\n",
              "    </tr>\n",
              "    <tr>\n",
              "      <th>129</th>\n",
              "      <td>41</td>\n",
              "      <td>technician</td>\n",
              "      <td>married</td>\n",
              "      <td>professional.course</td>\n",
              "      <td>unknown</td>\n",
              "      <td>yes</td>\n",
              "      <td>no</td>\n",
              "      <td>telephone</td>\n",
              "      <td>may</td>\n",
              "      <td>mon</td>\n",
              "      <td>...</td>\n",
              "      <td>1</td>\n",
              "      <td>999</td>\n",
              "      <td>0</td>\n",
              "      <td>nonexistent</td>\n",
              "      <td>1.1</td>\n",
              "      <td>93.994</td>\n",
              "      <td>-36.4</td>\n",
              "      <td>4.857</td>\n",
              "      <td>5191.0</td>\n",
              "      <td>yes</td>\n",
              "    </tr>\n",
              "    <tr>\n",
              "      <th>139</th>\n",
              "      <td>45</td>\n",
              "      <td>blue-collar</td>\n",
              "      <td>married</td>\n",
              "      <td>basic.9y</td>\n",
              "      <td>unknown</td>\n",
              "      <td>yes</td>\n",
              "      <td>no</td>\n",
              "      <td>telephone</td>\n",
              "      <td>may</td>\n",
              "      <td>mon</td>\n",
              "      <td>...</td>\n",
              "      <td>1</td>\n",
              "      <td>999</td>\n",
              "      <td>0</td>\n",
              "      <td>nonexistent</td>\n",
              "      <td>1.1</td>\n",
              "      <td>93.994</td>\n",
              "      <td>-36.4</td>\n",
              "      <td>4.857</td>\n",
              "      <td>5191.0</td>\n",
              "      <td>yes</td>\n",
              "    </tr>\n",
              "  </tbody>\n",
              "</table>\n",
              "<p>5 rows × 21 columns</p>\n",
              "</div>"
            ],
            "text/plain": [
              "     age           job   marital            education  default housing loan  \\\n",
              "75    41   blue-collar  divorced             basic.4y  unknown     yes   no   \n",
              "83    49  entrepreneur   married    university.degree  unknown     yes   no   \n",
              "88    49    technician   married             basic.9y       no      no   no   \n",
              "129   41    technician   married  professional.course  unknown     yes   no   \n",
              "139   45   blue-collar   married             basic.9y  unknown     yes   no   \n",
              "\n",
              "       contact month day_of_week ...   campaign  pdays  previous     poutcome  \\\n",
              "75   telephone   may         mon ...          1    999         0  nonexistent   \n",
              "83   telephone   may         mon ...          1    999         0  nonexistent   \n",
              "88   telephone   may         mon ...          1    999         0  nonexistent   \n",
              "129  telephone   may         mon ...          1    999         0  nonexistent   \n",
              "139  telephone   may         mon ...          1    999         0  nonexistent   \n",
              "\n",
              "    emp.var.rate  cons.price.idx  cons.conf.idx  euribor3m  nr.employed    y  \n",
              "75           1.1          93.994          -36.4      4.857       5191.0  yes  \n",
              "83           1.1          93.994          -36.4      4.857       5191.0  yes  \n",
              "88           1.1          93.994          -36.4      4.857       5191.0  yes  \n",
              "129          1.1          93.994          -36.4      4.857       5191.0  yes  \n",
              "139          1.1          93.994          -36.4      4.857       5191.0  yes  \n",
              "\n",
              "[5 rows x 21 columns]"
            ]
          },
          "execution_count": 63,
          "metadata": {},
          "output_type": "execute_result"
        }
      ],
      "source": [
        "# 1. 가입여부에 따라 가입한 그룹과 가입하지 않은 그룹으로 나눈다.\n",
        "#yes_group 출력\n",
        "yes_group.head()"
      ]
    },
    {
      "cell_type": "code",
      "execution_count": null,
      "metadata": {
        "id": "F6qVE2sK5zXA",
        "outputId": "7d73f62b-8250-460c-ecaa-22da05d927c4"
      },
      "outputs": [
        {
          "data": {
            "text/html": [
              "<div>\n",
              "<style scoped>\n",
              "    .dataframe tbody tr th:only-of-type {\n",
              "        vertical-align: middle;\n",
              "    }\n",
              "\n",
              "    .dataframe tbody tr th {\n",
              "        vertical-align: top;\n",
              "    }\n",
              "\n",
              "    .dataframe thead th {\n",
              "        text-align: right;\n",
              "    }\n",
              "</style>\n",
              "<table border=\"1\" class=\"dataframe\">\n",
              "  <thead>\n",
              "    <tr style=\"text-align: right;\">\n",
              "      <th></th>\n",
              "      <th>age</th>\n",
              "      <th>job</th>\n",
              "      <th>marital</th>\n",
              "      <th>education</th>\n",
              "      <th>default</th>\n",
              "      <th>housing</th>\n",
              "      <th>loan</th>\n",
              "      <th>contact</th>\n",
              "      <th>month</th>\n",
              "      <th>day_of_week</th>\n",
              "      <th>...</th>\n",
              "      <th>campaign</th>\n",
              "      <th>pdays</th>\n",
              "      <th>previous</th>\n",
              "      <th>poutcome</th>\n",
              "      <th>emp.var.rate</th>\n",
              "      <th>cons.price.idx</th>\n",
              "      <th>cons.conf.idx</th>\n",
              "      <th>euribor3m</th>\n",
              "      <th>nr.employed</th>\n",
              "      <th>y</th>\n",
              "    </tr>\n",
              "  </thead>\n",
              "  <tbody>\n",
              "    <tr>\n",
              "      <th>0</th>\n",
              "      <td>56</td>\n",
              "      <td>housemaid</td>\n",
              "      <td>married</td>\n",
              "      <td>basic.4y</td>\n",
              "      <td>no</td>\n",
              "      <td>no</td>\n",
              "      <td>no</td>\n",
              "      <td>telephone</td>\n",
              "      <td>may</td>\n",
              "      <td>mon</td>\n",
              "      <td>...</td>\n",
              "      <td>1</td>\n",
              "      <td>999</td>\n",
              "      <td>0</td>\n",
              "      <td>nonexistent</td>\n",
              "      <td>1.1</td>\n",
              "      <td>93.994</td>\n",
              "      <td>-36.4</td>\n",
              "      <td>4.857</td>\n",
              "      <td>5191.0</td>\n",
              "      <td>no</td>\n",
              "    </tr>\n",
              "    <tr>\n",
              "      <th>1</th>\n",
              "      <td>57</td>\n",
              "      <td>services</td>\n",
              "      <td>married</td>\n",
              "      <td>high.school</td>\n",
              "      <td>unknown</td>\n",
              "      <td>no</td>\n",
              "      <td>no</td>\n",
              "      <td>telephone</td>\n",
              "      <td>may</td>\n",
              "      <td>mon</td>\n",
              "      <td>...</td>\n",
              "      <td>1</td>\n",
              "      <td>999</td>\n",
              "      <td>0</td>\n",
              "      <td>nonexistent</td>\n",
              "      <td>1.1</td>\n",
              "      <td>93.994</td>\n",
              "      <td>-36.4</td>\n",
              "      <td>4.857</td>\n",
              "      <td>5191.0</td>\n",
              "      <td>no</td>\n",
              "    </tr>\n",
              "    <tr>\n",
              "      <th>2</th>\n",
              "      <td>37</td>\n",
              "      <td>services</td>\n",
              "      <td>married</td>\n",
              "      <td>high.school</td>\n",
              "      <td>no</td>\n",
              "      <td>yes</td>\n",
              "      <td>no</td>\n",
              "      <td>telephone</td>\n",
              "      <td>may</td>\n",
              "      <td>mon</td>\n",
              "      <td>...</td>\n",
              "      <td>1</td>\n",
              "      <td>999</td>\n",
              "      <td>0</td>\n",
              "      <td>nonexistent</td>\n",
              "      <td>1.1</td>\n",
              "      <td>93.994</td>\n",
              "      <td>-36.4</td>\n",
              "      <td>4.857</td>\n",
              "      <td>5191.0</td>\n",
              "      <td>no</td>\n",
              "    </tr>\n",
              "    <tr>\n",
              "      <th>3</th>\n",
              "      <td>40</td>\n",
              "      <td>admin.</td>\n",
              "      <td>married</td>\n",
              "      <td>basic.6y</td>\n",
              "      <td>no</td>\n",
              "      <td>no</td>\n",
              "      <td>no</td>\n",
              "      <td>telephone</td>\n",
              "      <td>may</td>\n",
              "      <td>mon</td>\n",
              "      <td>...</td>\n",
              "      <td>1</td>\n",
              "      <td>999</td>\n",
              "      <td>0</td>\n",
              "      <td>nonexistent</td>\n",
              "      <td>1.1</td>\n",
              "      <td>93.994</td>\n",
              "      <td>-36.4</td>\n",
              "      <td>4.857</td>\n",
              "      <td>5191.0</td>\n",
              "      <td>no</td>\n",
              "    </tr>\n",
              "    <tr>\n",
              "      <th>4</th>\n",
              "      <td>56</td>\n",
              "      <td>services</td>\n",
              "      <td>married</td>\n",
              "      <td>high.school</td>\n",
              "      <td>no</td>\n",
              "      <td>no</td>\n",
              "      <td>yes</td>\n",
              "      <td>telephone</td>\n",
              "      <td>may</td>\n",
              "      <td>mon</td>\n",
              "      <td>...</td>\n",
              "      <td>1</td>\n",
              "      <td>999</td>\n",
              "      <td>0</td>\n",
              "      <td>nonexistent</td>\n",
              "      <td>1.1</td>\n",
              "      <td>93.994</td>\n",
              "      <td>-36.4</td>\n",
              "      <td>4.857</td>\n",
              "      <td>5191.0</td>\n",
              "      <td>no</td>\n",
              "    </tr>\n",
              "  </tbody>\n",
              "</table>\n",
              "<p>5 rows × 21 columns</p>\n",
              "</div>"
            ],
            "text/plain": [
              "   age        job  marital    education  default housing loan    contact  \\\n",
              "0   56  housemaid  married     basic.4y       no      no   no  telephone   \n",
              "1   57   services  married  high.school  unknown      no   no  telephone   \n",
              "2   37   services  married  high.school       no     yes   no  telephone   \n",
              "3   40     admin.  married     basic.6y       no      no   no  telephone   \n",
              "4   56   services  married  high.school       no      no  yes  telephone   \n",
              "\n",
              "  month day_of_week ...  campaign  pdays  previous     poutcome emp.var.rate  \\\n",
              "0   may         mon ...         1    999         0  nonexistent          1.1   \n",
              "1   may         mon ...         1    999         0  nonexistent          1.1   \n",
              "2   may         mon ...         1    999         0  nonexistent          1.1   \n",
              "3   may         mon ...         1    999         0  nonexistent          1.1   \n",
              "4   may         mon ...         1    999         0  nonexistent          1.1   \n",
              "\n",
              "   cons.price.idx  cons.conf.idx  euribor3m  nr.employed   y  \n",
              "0          93.994          -36.4      4.857       5191.0  no  \n",
              "1          93.994          -36.4      4.857       5191.0  no  \n",
              "2          93.994          -36.4      4.857       5191.0  no  \n",
              "3          93.994          -36.4      4.857       5191.0  no  \n",
              "4          93.994          -36.4      4.857       5191.0  no  \n",
              "\n",
              "[5 rows x 21 columns]"
            ]
          },
          "execution_count": 64,
          "metadata": {},
          "output_type": "execute_result"
        }
      ],
      "source": [
        "# 1-3. 가입여부에 따라 가입한 그룹과 가입하지 않은 그룹으로 나눈다.\n",
        "#no_group 출력\n",
        "no_group.head()"
      ]
    },
    {
      "cell_type": "code",
      "execution_count": null,
      "metadata": {
        "id": "PVH44oS95zXA"
      },
      "outputs": [],
      "source": [
        "#2. 나뉜 데이터(yes_group,no_group)를 대출여부(loan)에 따라 나눈다.\n",
        "#value_counts\n",
        "yes=yes_group['loan'].value_counts()"
      ]
    },
    {
      "cell_type": "code",
      "execution_count": null,
      "metadata": {
        "id": "Ff8Sm1yc5zXA",
        "outputId": "d4cf4125-a9ad-4517-c910-ebe5be7e2e36"
      },
      "outputs": [
        {
          "data": {
            "text/plain": [
              "no         3850\n",
              "yes         683\n",
              "unknown     107\n",
              "Name: loan, dtype: int64"
            ]
          },
          "execution_count": 66,
          "metadata": {},
          "output_type": "execute_result"
        }
      ],
      "source": [
        "#yes변수 출력\n",
        "yes\n",
        "#yes_group의 대출여부 빈도 출력"
      ]
    },
    {
      "cell_type": "code",
      "execution_count": null,
      "metadata": {
        "id": "4aUWxFly5zXB"
      },
      "outputs": [],
      "source": [
        "#2. 나뉜 데이터(yes_group,no_group)를 대출여부(loan)에 따라 나눈다.\n",
        "#value_counts\n",
        "no=no_group['loan'].value_counts()"
      ]
    },
    {
      "cell_type": "code",
      "execution_count": null,
      "metadata": {
        "id": "vx3ayxyd5zXB",
        "outputId": "db5f67b6-f12f-4991-b685-982dfa53ac30"
      },
      "outputs": [
        {
          "data": {
            "text/plain": [
              "no         30100\n",
              "yes         5565\n",
              "unknown      883\n",
              "Name: loan, dtype: int64"
            ]
          },
          "execution_count": 68,
          "metadata": {},
          "output_type": "execute_result"
        }
      ],
      "source": [
        "#no변수 출력\n",
        "no\n",
        "#no_group의 대출여부 빈도 출력"
      ]
    },
    {
      "cell_type": "code",
      "execution_count": null,
      "metadata": {
        "scrolled": true,
        "id": "YyI1Tb9n5zXB"
      },
      "outputs": [],
      "source": [
        "#3. 가입한 그룹 내 대출이 있는 사람의 비중과, 가입하지 않은 그룹 내 대출이 있는 사람의 비중을 비교한다(yes_group).\n",
        "#비중 : 시리즈 변수 각각의 value를 시리즈의 총합으로 나눔\n",
        "#시리즈는 산술연산자(+,-,*,/,%,**,//)와 함께 사용가능\n",
        "#series/series.sum()\n",
        "yes=yes/yes.sum()"
      ]
    },
    {
      "cell_type": "code",
      "execution_count": null,
      "metadata": {
        "id": "5RfKpo6o5zXB",
        "outputId": "1d10a0bd-ec97-4bb4-fcd7-c2835ace36e2"
      },
      "outputs": [
        {
          "data": {
            "text/plain": [
              "no         0.829741\n",
              "yes        0.147198\n",
              "unknown    0.023060\n",
              "Name: loan, dtype: float64"
            ]
          },
          "execution_count": 70,
          "metadata": {},
          "output_type": "execute_result"
        }
      ],
      "source": [
        "#yes 출력\n",
        "yes"
      ]
    },
    {
      "cell_type": "code",
      "execution_count": null,
      "metadata": {
        "id": "OvioiSOW5zXB"
      },
      "outputs": [],
      "source": [
        "#3. 가입한 그룹 내 대출이 있는 사람의 비중과, 가입하지 않은 그룹 내 대출이 있는 사람의 비중을 비교한다(no_group).\n",
        "no=no/no.sum()"
      ]
    },
    {
      "cell_type": "code",
      "execution_count": null,
      "metadata": {
        "id": "SXP2Rn5b5zXC",
        "outputId": "8ed1c224-28d0-4db7-8940-4552eb64ce86"
      },
      "outputs": [
        {
          "data": {
            "text/plain": [
              "no         0.823574\n",
              "yes        0.152266\n",
              "unknown    0.024160\n",
              "Name: loan, dtype: float64"
            ]
          },
          "execution_count": 72,
          "metadata": {},
          "output_type": "execute_result"
        }
      ],
      "source": [
        "#no 출력\n",
        "no"
      ]
    },
    {
      "cell_type": "code",
      "execution_count": null,
      "metadata": {
        "scrolled": true,
        "id": "8PYnChS95zXC",
        "outputId": "e586e121-6ddd-46d9-c88c-0a49d90f9db8"
      },
      "outputs": [
        {
          "data": {
            "text/html": [
              "<div>\n",
              "<style scoped>\n",
              "    .dataframe tbody tr th:only-of-type {\n",
              "        vertical-align: middle;\n",
              "    }\n",
              "\n",
              "    .dataframe tbody tr th {\n",
              "        vertical-align: top;\n",
              "    }\n",
              "\n",
              "    .dataframe thead th {\n",
              "        text-align: right;\n",
              "    }\n",
              "</style>\n",
              "<table border=\"1\" class=\"dataframe\">\n",
              "  <thead>\n",
              "    <tr style=\"text-align: right;\">\n",
              "      <th></th>\n",
              "      <th>loan</th>\n",
              "      <th>loan</th>\n",
              "    </tr>\n",
              "  </thead>\n",
              "  <tbody>\n",
              "    <tr>\n",
              "      <th>no</th>\n",
              "      <td>0.829741</td>\n",
              "      <td>0.823574</td>\n",
              "    </tr>\n",
              "    <tr>\n",
              "      <th>yes</th>\n",
              "      <td>0.147198</td>\n",
              "      <td>0.152266</td>\n",
              "    </tr>\n",
              "    <tr>\n",
              "      <th>unknown</th>\n",
              "      <td>0.023060</td>\n",
              "      <td>0.024160</td>\n",
              "    </tr>\n",
              "  </tbody>\n",
              "</table>\n",
              "</div>"
            ],
            "text/plain": [
              "             loan      loan\n",
              "no       0.829741  0.823574\n",
              "yes      0.147198  0.152266\n",
              "unknown  0.023060  0.024160"
            ]
          },
          "execution_count": 73,
          "metadata": {},
          "output_type": "execute_result"
        }
      ],
      "source": [
        "#3. 가입한 그룹 중 대출이 있는 사람의 비중과, 가입하지 않은 그룹 중 대출이 있는 사람의 비중을 비교한다.\n",
        "#concat : 시리즈 혹은 데이터프레임 결합(default-행방향 결합)\n",
        "pd.concat([yes,no],axis=1)\n",
        "#칼럼명이 모두 loan"
      ]
    },
    {
      "cell_type": "code",
      "execution_count": null,
      "metadata": {
        "scrolled": true,
        "id": "N66MOVq-5zXC"
      },
      "outputs": [],
      "source": [
        "#series.name : 시리즈의 이름 설정\n",
        "yes.name='y_yes'"
      ]
    },
    {
      "cell_type": "code",
      "execution_count": null,
      "metadata": {
        "id": "9B4dnW485zXC"
      },
      "outputs": [],
      "source": [
        "#series.name : 시리즈의 이름 설정\n",
        "no.name='y_no'"
      ]
    },
    {
      "cell_type": "code",
      "execution_count": null,
      "metadata": {
        "scrolled": true,
        "id": "lAPzJLWb5zXD",
        "outputId": "5b29f36c-d1bf-4d74-916e-bd4e3941de8d"
      },
      "outputs": [
        {
          "data": {
            "text/html": [
              "<div>\n",
              "<style scoped>\n",
              "    .dataframe tbody tr th:only-of-type {\n",
              "        vertical-align: middle;\n",
              "    }\n",
              "\n",
              "    .dataframe tbody tr th {\n",
              "        vertical-align: top;\n",
              "    }\n",
              "\n",
              "    .dataframe thead th {\n",
              "        text-align: right;\n",
              "    }\n",
              "</style>\n",
              "<table border=\"1\" class=\"dataframe\">\n",
              "  <thead>\n",
              "    <tr style=\"text-align: right;\">\n",
              "      <th></th>\n",
              "      <th>y_yes</th>\n",
              "      <th>y_no</th>\n",
              "    </tr>\n",
              "  </thead>\n",
              "  <tbody>\n",
              "    <tr>\n",
              "      <th>no</th>\n",
              "      <td>0.829741</td>\n",
              "      <td>0.823574</td>\n",
              "    </tr>\n",
              "    <tr>\n",
              "      <th>yes</th>\n",
              "      <td>0.147198</td>\n",
              "      <td>0.152266</td>\n",
              "    </tr>\n",
              "    <tr>\n",
              "      <th>unknown</th>\n",
              "      <td>0.023060</td>\n",
              "      <td>0.024160</td>\n",
              "    </tr>\n",
              "  </tbody>\n",
              "</table>\n",
              "</div>"
            ],
            "text/plain": [
              "            y_yes      y_no\n",
              "no       0.829741  0.823574\n",
              "yes      0.147198  0.152266\n",
              "unknown  0.023060  0.024160"
            ]
          },
          "execution_count": 77,
          "metadata": {},
          "output_type": "execute_result"
        }
      ],
      "source": [
        "pd.concat([yes,no],axis=1)\n",
        "#=> 가입한 그룹의 대출 비중이 가입하지 않은 그룹보다 0.005 더 적다."
      ]
    },
    {
      "cell_type": "markdown",
      "metadata": {
        "id": "-KsNvD8E5zXD"
      },
      "source": [
        "# 분석주제 2 :\n",
        "# 같은 상품을 새로운 고객에게 마케팅 하려고한다. \n",
        "# 연령과 상품가입여부, 직업을 함께 고려할때 마케팅 전략을 변화시켜야 할 그룹은?\n",
        "\n",
        "- 학습목표 : \n",
        " 1. 가설검증과정 코딩 실습하기\n",
        " 2. pivot_table활용한 실습 진행하기"
      ]
    },
    {
      "cell_type": "markdown",
      "metadata": {
        "id": "k6lpa-bb5zXD"
      },
      "source": [
        "- 분석조건 : 세 개의 칼럼(age, job, y)을 함께 분석해야 함 \n",
        "- pd.pivot_table('데이터프레임 변수',values=집계 대상 칼럼(수치 데이터), index=행 인덱스가 될 칼럼명, columns=열 인덱스가 될 칼럼명, aggfunc=집계함수-sum,mean,min,max,std,var)"
      ]
    },
    {
      "cell_type": "markdown",
      "metadata": {
        "id": "jbhdM1eq5zXD"
      },
      "source": [
        "# pivot_table 사용예제"
      ]
    },
    {
      "cell_type": "code",
      "execution_count": null,
      "metadata": {
        "id": "tpg4OOUz5zXE",
        "outputId": "f4688ab7-0904-4a92-c949-e0cf9f7c2d4f"
      },
      "outputs": [
        {
          "data": {
            "text/html": [
              "<div>\n",
              "<style scoped>\n",
              "    .dataframe tbody tr th:only-of-type {\n",
              "        vertical-align: middle;\n",
              "    }\n",
              "\n",
              "    .dataframe tbody tr th {\n",
              "        vertical-align: top;\n",
              "    }\n",
              "\n",
              "    .dataframe thead th {\n",
              "        text-align: right;\n",
              "    }\n",
              "</style>\n",
              "<table border=\"1\" class=\"dataframe\">\n",
              "  <thead>\n",
              "    <tr style=\"text-align: right;\">\n",
              "      <th>job</th>\n",
              "      <th>admin.</th>\n",
              "      <th>blue-collar</th>\n",
              "      <th>entrepreneur</th>\n",
              "      <th>housemaid</th>\n",
              "      <th>management</th>\n",
              "      <th>retired</th>\n",
              "      <th>self-employed</th>\n",
              "      <th>services</th>\n",
              "      <th>student</th>\n",
              "      <th>technician</th>\n",
              "      <th>unemployed</th>\n",
              "      <th>unknown</th>\n",
              "    </tr>\n",
              "    <tr>\n",
              "      <th>y</th>\n",
              "      <th></th>\n",
              "      <th></th>\n",
              "      <th></th>\n",
              "      <th></th>\n",
              "      <th></th>\n",
              "      <th></th>\n",
              "      <th></th>\n",
              "      <th></th>\n",
              "      <th></th>\n",
              "      <th></th>\n",
              "      <th></th>\n",
              "      <th></th>\n",
              "    </tr>\n",
              "  </thead>\n",
              "  <tbody>\n",
              "    <tr>\n",
              "      <th>no</th>\n",
              "      <td>38.219846</td>\n",
              "      <td>39.582057</td>\n",
              "      <td>41.703453</td>\n",
              "      <td>44.705451</td>\n",
              "      <td>42.309707</td>\n",
              "      <td>59.926128</td>\n",
              "      <td>40.176887</td>\n",
              "      <td>38.090236</td>\n",
              "      <td>26.396667</td>\n",
              "      <td>38.600033</td>\n",
              "      <td>39.844828</td>\n",
              "      <td>45.375427</td>\n",
              "    </tr>\n",
              "    <tr>\n",
              "      <th>yes</th>\n",
              "      <td>37.968935</td>\n",
              "      <td>39.200627</td>\n",
              "      <td>41.935484</td>\n",
              "      <td>52.650943</td>\n",
              "      <td>42.783537</td>\n",
              "      <td>68.253456</td>\n",
              "      <td>38.006711</td>\n",
              "      <td>36.077399</td>\n",
              "      <td>24.800000</td>\n",
              "      <td>37.746575</td>\n",
              "      <td>39.062500</td>\n",
              "      <td>47.054054</td>\n",
              "    </tr>\n",
              "  </tbody>\n",
              "</table>\n",
              "</div>"
            ],
            "text/plain": [
              "job     admin.  blue-collar  entrepreneur  housemaid  management    retired  \\\n",
              "y                                                                             \n",
              "no   38.219846    39.582057     41.703453  44.705451   42.309707  59.926128   \n",
              "yes  37.968935    39.200627     41.935484  52.650943   42.783537  68.253456   \n",
              "\n",
              "job  self-employed   services    student  technician  unemployed    unknown  \n",
              "y                                                                            \n",
              "no       40.176887  38.090236  26.396667   38.600033   39.844828  45.375427  \n",
              "yes      38.006711  36.077399  24.800000   37.746575   39.062500  47.054054  "
            ]
          },
          "execution_count": 92,
          "metadata": {},
          "output_type": "execute_result"
        }
      ],
      "source": [
        "#pd.pivot_table('데이터프레임 변수',values=집계 대상 칼럼, index=행 인덱스가 될 칼럼명, columns=열 인덱스가 될 칼럼명, aggfunc=sum)\n",
        "pd.pivot_table(df,values='age',index='y',columns='job',aggfunc='mean')"
      ]
    },
    {
      "cell_type": "code",
      "execution_count": null,
      "metadata": {
        "scrolled": false,
        "id": "wl5u6-XQ5zXE",
        "outputId": "7cfa1f14-ebae-4913-98b6-df6c520ef4d3"
      },
      "outputs": [
        {
          "data": {
            "text/html": [
              "<div>\n",
              "<style scoped>\n",
              "    .dataframe tbody tr th:only-of-type {\n",
              "        vertical-align: middle;\n",
              "    }\n",
              "\n",
              "    .dataframe tbody tr th {\n",
              "        vertical-align: top;\n",
              "    }\n",
              "\n",
              "    .dataframe thead th {\n",
              "        text-align: right;\n",
              "    }\n",
              "</style>\n",
              "<table border=\"1\" class=\"dataframe\">\n",
              "  <thead>\n",
              "    <tr style=\"text-align: right;\">\n",
              "      <th>job</th>\n",
              "      <th>admin.</th>\n",
              "      <th>blue-collar</th>\n",
              "      <th>entrepreneur</th>\n",
              "      <th>housemaid</th>\n",
              "      <th>management</th>\n",
              "      <th>retired</th>\n",
              "      <th>self-employed</th>\n",
              "      <th>services</th>\n",
              "      <th>student</th>\n",
              "      <th>technician</th>\n",
              "      <th>unemployed</th>\n",
              "      <th>unknown</th>\n",
              "    </tr>\n",
              "    <tr>\n",
              "      <th>y</th>\n",
              "      <th></th>\n",
              "      <th></th>\n",
              "      <th></th>\n",
              "      <th></th>\n",
              "      <th></th>\n",
              "      <th></th>\n",
              "      <th></th>\n",
              "      <th></th>\n",
              "      <th></th>\n",
              "      <th></th>\n",
              "      <th></th>\n",
              "      <th></th>\n",
              "    </tr>\n",
              "  </thead>\n",
              "  <tbody>\n",
              "    <tr>\n",
              "      <th>no</th>\n",
              "      <td>38.219846</td>\n",
              "      <td>39.582057</td>\n",
              "      <td>41.703453</td>\n",
              "      <td>44.705451</td>\n",
              "      <td>42.309707</td>\n",
              "      <td>59.926128</td>\n",
              "      <td>40.176887</td>\n",
              "      <td>38.090236</td>\n",
              "      <td>26.396667</td>\n",
              "      <td>38.600033</td>\n",
              "      <td>39.844828</td>\n",
              "      <td>45.375427</td>\n",
              "    </tr>\n",
              "    <tr>\n",
              "      <th>yes</th>\n",
              "      <td>37.968935</td>\n",
              "      <td>39.200627</td>\n",
              "      <td>41.935484</td>\n",
              "      <td>52.650943</td>\n",
              "      <td>42.783537</td>\n",
              "      <td>68.253456</td>\n",
              "      <td>38.006711</td>\n",
              "      <td>36.077399</td>\n",
              "      <td>24.800000</td>\n",
              "      <td>37.746575</td>\n",
              "      <td>39.062500</td>\n",
              "      <td>47.054054</td>\n",
              "    </tr>\n",
              "  </tbody>\n",
              "</table>\n",
              "</div>"
            ],
            "text/plain": [
              "job     admin.  blue-collar  entrepreneur  housemaid  management    retired  \\\n",
              "y                                                                             \n",
              "no   38.219846    39.582057     41.703453  44.705451   42.309707  59.926128   \n",
              "yes  37.968935    39.200627     41.935484  52.650943   42.783537  68.253456   \n",
              "\n",
              "job  self-employed   services    student  technician  unemployed    unknown  \n",
              "y                                                                            \n",
              "no       40.176887  38.090236  26.396667   38.600033   39.844828  45.375427  \n",
              "yes      38.006711  36.077399  24.800000   37.746575   39.062500  47.054054  "
            ]
          },
          "execution_count": 93,
          "metadata": {},
          "output_type": "execute_result"
        }
      ],
      "source": [
        "#values,index,columns파라미터를 일일이 쓰지 않고 순서대로 입력하여 실행 가능\n",
        "pd.pivot_table(df,'age','y','job',aggfunc='mean')"
      ]
    },
    {
      "cell_type": "code",
      "execution_count": null,
      "metadata": {
        "id": "UqIQmSMO5zXE",
        "outputId": "47c30b25-36b8-4ea3-aa27-669069c996c5"
      },
      "outputs": [
        {
          "data": {
            "text/html": [
              "<div>\n",
              "<style scoped>\n",
              "    .dataframe tbody tr th:only-of-type {\n",
              "        vertical-align: middle;\n",
              "    }\n",
              "\n",
              "    .dataframe tbody tr th {\n",
              "        vertical-align: top;\n",
              "    }\n",
              "\n",
              "    .dataframe thead th {\n",
              "        text-align: right;\n",
              "    }\n",
              "</style>\n",
              "<table border=\"1\" class=\"dataframe\">\n",
              "  <thead>\n",
              "    <tr style=\"text-align: right;\">\n",
              "      <th></th>\n",
              "      <th>job</th>\n",
              "      <th>admin.</th>\n",
              "      <th>blue-collar</th>\n",
              "      <th>entrepreneur</th>\n",
              "      <th>housemaid</th>\n",
              "      <th>management</th>\n",
              "      <th>retired</th>\n",
              "      <th>self-employed</th>\n",
              "      <th>services</th>\n",
              "      <th>student</th>\n",
              "      <th>technician</th>\n",
              "      <th>unemployed</th>\n",
              "      <th>unknown</th>\n",
              "    </tr>\n",
              "    <tr>\n",
              "      <th>y</th>\n",
              "      <th>marital</th>\n",
              "      <th></th>\n",
              "      <th></th>\n",
              "      <th></th>\n",
              "      <th></th>\n",
              "      <th></th>\n",
              "      <th></th>\n",
              "      <th></th>\n",
              "      <th></th>\n",
              "      <th></th>\n",
              "      <th></th>\n",
              "      <th></th>\n",
              "      <th></th>\n",
              "    </tr>\n",
              "  </thead>\n",
              "  <tbody>\n",
              "    <tr>\n",
              "      <th rowspan=\"4\" valign=\"top\">no</th>\n",
              "      <th>divorced</th>\n",
              "      <td>43.098432</td>\n",
              "      <td>42.903704</td>\n",
              "      <td>44.042424</td>\n",
              "      <td>48.806897</td>\n",
              "      <td>46.123288</td>\n",
              "      <td>61.480469</td>\n",
              "      <td>42.871795</td>\n",
              "      <td>41.991984</td>\n",
              "      <td>34.500000</td>\n",
              "      <td>42.173484</td>\n",
              "      <td>42.140351</td>\n",
              "      <td>43.300000</td>\n",
              "    </tr>\n",
              "    <tr>\n",
              "      <th>married</th>\n",
              "      <td>40.148663</td>\n",
              "      <td>40.857804</td>\n",
              "      <td>42.477111</td>\n",
              "      <td>44.849218</td>\n",
              "      <td>43.634997</td>\n",
              "      <td>60.019048</td>\n",
              "      <td>42.349148</td>\n",
              "      <td>39.992951</td>\n",
              "      <td>30.484848</td>\n",
              "      <td>40.686245</td>\n",
              "      <td>41.636861</td>\n",
              "      <td>47.532110</td>\n",
              "    </tr>\n",
              "    <tr>\n",
              "      <th>single</th>\n",
              "      <td>33.858265</td>\n",
              "      <td>33.409255</td>\n",
              "      <td>35.472527</td>\n",
              "      <td>38.087379</td>\n",
              "      <td>34.070776</td>\n",
              "      <td>53.938272</td>\n",
              "      <td>33.783537</td>\n",
              "      <td>32.159921</td>\n",
              "      <td>26.062500</td>\n",
              "      <td>33.950697</td>\n",
              "      <td>33.536946</td>\n",
              "      <td>38.288136</td>\n",
              "    </tr>\n",
              "    <tr>\n",
              "      <th>unknown</th>\n",
              "      <td>34.666667</td>\n",
              "      <td>42.818182</td>\n",
              "      <td>35.500000</td>\n",
              "      <td>40.000000</td>\n",
              "      <td>51.000000</td>\n",
              "      <td>59.750000</td>\n",
              "      <td>39.400000</td>\n",
              "      <td>40.000000</td>\n",
              "      <td>30.000000</td>\n",
              "      <td>33.300000</td>\n",
              "      <td>47.200000</td>\n",
              "      <td>40.166667</td>\n",
              "    </tr>\n",
              "    <tr>\n",
              "      <th rowspan=\"4\" valign=\"top\">yes</th>\n",
              "      <th>divorced</th>\n",
              "      <td>44.878788</td>\n",
              "      <td>42.037736</td>\n",
              "      <td>44.857143</td>\n",
              "      <td>57.000000</td>\n",
              "      <td>46.692308</td>\n",
              "      <td>72.739130</td>\n",
              "      <td>41.875000</td>\n",
              "      <td>43.484848</td>\n",
              "      <td>35.666667</td>\n",
              "      <td>40.738462</td>\n",
              "      <td>47.900000</td>\n",
              "      <td>76.333333</td>\n",
              "    </tr>\n",
              "    <tr>\n",
              "      <th>married</th>\n",
              "      <td>41.386503</td>\n",
              "      <td>41.363420</td>\n",
              "      <td>43.090909</td>\n",
              "      <td>54.256757</td>\n",
              "      <td>44.756637</td>\n",
              "      <td>67.033435</td>\n",
              "      <td>41.036585</td>\n",
              "      <td>38.379518</td>\n",
              "      <td>31.250000</td>\n",
              "      <td>41.398438</td>\n",
              "      <td>41.941860</td>\n",
              "      <td>58.750000</td>\n",
              "    </tr>\n",
              "    <tr>\n",
              "      <th>single</th>\n",
              "      <td>32.404594</td>\n",
              "      <td>32.652174</td>\n",
              "      <td>35.666667</td>\n",
              "      <td>40.875000</td>\n",
              "      <td>33.285714</td>\n",
              "      <td>67.500000</td>\n",
              "      <td>31.921569</td>\n",
              "      <td>31.024194</td>\n",
              "      <td>24.481061</td>\n",
              "      <td>32.078853</td>\n",
              "      <td>32.062500</td>\n",
              "      <td>30.000000</td>\n",
              "    </tr>\n",
              "    <tr>\n",
              "      <th>unknown</th>\n",
              "      <td>42.500000</td>\n",
              "      <td>37.000000</td>\n",
              "      <td>31.000000</td>\n",
              "      <td>NaN</td>\n",
              "      <td>NaN</td>\n",
              "      <td>66.000000</td>\n",
              "      <td>NaN</td>\n",
              "      <td>NaN</td>\n",
              "      <td>NaN</td>\n",
              "      <td>30.000000</td>\n",
              "      <td>NaN</td>\n",
              "      <td>40.666667</td>\n",
              "    </tr>\n",
              "  </tbody>\n",
              "</table>\n",
              "</div>"
            ],
            "text/plain": [
              "job              admin.  blue-collar  entrepreneur  housemaid  management  \\\n",
              "y   marital                                                                 \n",
              "no  divorced  43.098432    42.903704     44.042424  48.806897   46.123288   \n",
              "    married   40.148663    40.857804     42.477111  44.849218   43.634997   \n",
              "    single    33.858265    33.409255     35.472527  38.087379   34.070776   \n",
              "    unknown   34.666667    42.818182     35.500000  40.000000   51.000000   \n",
              "yes divorced  44.878788    42.037736     44.857143  57.000000   46.692308   \n",
              "    married   41.386503    41.363420     43.090909  54.256757   44.756637   \n",
              "    single    32.404594    32.652174     35.666667  40.875000   33.285714   \n",
              "    unknown   42.500000    37.000000     31.000000        NaN         NaN   \n",
              "\n",
              "job             retired  self-employed   services    student  technician  \\\n",
              "y   marital                                                                \n",
              "no  divorced  61.480469      42.871795  41.991984  34.500000   42.173484   \n",
              "    married   60.019048      42.349148  39.992951  30.484848   40.686245   \n",
              "    single    53.938272      33.783537  32.159921  26.062500   33.950697   \n",
              "    unknown   59.750000      39.400000  40.000000  30.000000   33.300000   \n",
              "yes divorced  72.739130      41.875000  43.484848  35.666667   40.738462   \n",
              "    married   67.033435      41.036585  38.379518  31.250000   41.398438   \n",
              "    single    67.500000      31.921569  31.024194  24.481061   32.078853   \n",
              "    unknown   66.000000            NaN        NaN        NaN   30.000000   \n",
              "\n",
              "job           unemployed    unknown  \n",
              "y   marital                          \n",
              "no  divorced   42.140351  43.300000  \n",
              "    married    41.636861  47.532110  \n",
              "    single     33.536946  38.288136  \n",
              "    unknown    47.200000  40.166667  \n",
              "yes divorced   47.900000  76.333333  \n",
              "    married    41.941860  58.750000  \n",
              "    single     32.062500  30.000000  \n",
              "    unknown          NaN  40.666667  "
            ]
          },
          "execution_count": 94,
          "metadata": {},
          "output_type": "execute_result"
        }
      ],
      "source": [
        "#멀티 인덱스(multi-index) - 행 인덱스\n",
        "#['y','marital']\n",
        "pd.pivot_table(df,'age',['y','marital'],'job',aggfunc='mean')"
      ]
    },
    {
      "cell_type": "code",
      "execution_count": null,
      "metadata": {
        "id": "LTjHA2_P5zXE",
        "outputId": "e96d6300-561c-45bb-9bd1-e1702b05a33c"
      },
      "outputs": [
        {
          "data": {
            "text/html": [
              "<div>\n",
              "<style scoped>\n",
              "    .dataframe tbody tr th:only-of-type {\n",
              "        vertical-align: middle;\n",
              "    }\n",
              "\n",
              "    .dataframe tbody tr th {\n",
              "        vertical-align: top;\n",
              "    }\n",
              "\n",
              "    .dataframe thead tr th {\n",
              "        text-align: left;\n",
              "    }\n",
              "\n",
              "    .dataframe thead tr:last-of-type th {\n",
              "        text-align: right;\n",
              "    }\n",
              "</style>\n",
              "<table border=\"1\" class=\"dataframe\">\n",
              "  <thead>\n",
              "    <tr>\n",
              "      <th></th>\n",
              "      <th>job</th>\n",
              "      <th colspan=\"2\" halign=\"left\">admin.</th>\n",
              "      <th colspan=\"2\" halign=\"left\">blue-collar</th>\n",
              "      <th colspan=\"2\" halign=\"left\">entrepreneur</th>\n",
              "      <th colspan=\"2\" halign=\"left\">housemaid</th>\n",
              "      <th colspan=\"2\" halign=\"left\">management</th>\n",
              "      <th>...</th>\n",
              "      <th colspan=\"2\" halign=\"left\">services</th>\n",
              "      <th colspan=\"2\" halign=\"left\">student</th>\n",
              "      <th colspan=\"2\" halign=\"left\">technician</th>\n",
              "      <th colspan=\"2\" halign=\"left\">unemployed</th>\n",
              "      <th colspan=\"2\" halign=\"left\">unknown</th>\n",
              "    </tr>\n",
              "    <tr>\n",
              "      <th></th>\n",
              "      <th>contact</th>\n",
              "      <th>cellular</th>\n",
              "      <th>telephone</th>\n",
              "      <th>cellular</th>\n",
              "      <th>telephone</th>\n",
              "      <th>cellular</th>\n",
              "      <th>telephone</th>\n",
              "      <th>cellular</th>\n",
              "      <th>telephone</th>\n",
              "      <th>cellular</th>\n",
              "      <th>telephone</th>\n",
              "      <th>...</th>\n",
              "      <th>cellular</th>\n",
              "      <th>telephone</th>\n",
              "      <th>cellular</th>\n",
              "      <th>telephone</th>\n",
              "      <th>cellular</th>\n",
              "      <th>telephone</th>\n",
              "      <th>cellular</th>\n",
              "      <th>telephone</th>\n",
              "      <th>cellular</th>\n",
              "      <th>telephone</th>\n",
              "    </tr>\n",
              "    <tr>\n",
              "      <th>y</th>\n",
              "      <th>marital</th>\n",
              "      <th></th>\n",
              "      <th></th>\n",
              "      <th></th>\n",
              "      <th></th>\n",
              "      <th></th>\n",
              "      <th></th>\n",
              "      <th></th>\n",
              "      <th></th>\n",
              "      <th></th>\n",
              "      <th></th>\n",
              "      <th></th>\n",
              "      <th></th>\n",
              "      <th></th>\n",
              "      <th></th>\n",
              "      <th></th>\n",
              "      <th></th>\n",
              "      <th></th>\n",
              "      <th></th>\n",
              "      <th></th>\n",
              "      <th></th>\n",
              "      <th></th>\n",
              "    </tr>\n",
              "  </thead>\n",
              "  <tbody>\n",
              "    <tr>\n",
              "      <th rowspan=\"4\" valign=\"top\">no</th>\n",
              "      <th>divorced</th>\n",
              "      <td>43.143639</td>\n",
              "      <td>43.019185</td>\n",
              "      <td>42.906907</td>\n",
              "      <td>42.900585</td>\n",
              "      <td>43.301887</td>\n",
              "      <td>45.372881</td>\n",
              "      <td>48.292683</td>\n",
              "      <td>49.476190</td>\n",
              "      <td>44.786164</td>\n",
              "      <td>47.721805</td>\n",
              "      <td>...</td>\n",
              "      <td>42.028269</td>\n",
              "      <td>41.944444</td>\n",
              "      <td>36.000000</td>\n",
              "      <td>27.000000</td>\n",
              "      <td>42.069034</td>\n",
              "      <td>42.435644</td>\n",
              "      <td>42.253731</td>\n",
              "      <td>41.978723</td>\n",
              "      <td>46.000000</td>\n",
              "      <td>40.600000</td>\n",
              "    </tr>\n",
              "    <tr>\n",
              "      <th>married</th>\n",
              "      <td>40.349554</td>\n",
              "      <td>39.800357</td>\n",
              "      <td>41.182477</td>\n",
              "      <td>40.494249</td>\n",
              "      <td>42.213628</td>\n",
              "      <td>42.802273</td>\n",
              "      <td>45.900966</td>\n",
              "      <td>43.342561</td>\n",
              "      <td>43.740678</td>\n",
              "      <td>43.452416</td>\n",
              "      <td>...</td>\n",
              "      <td>40.483733</td>\n",
              "      <td>39.395833</td>\n",
              "      <td>32.150000</td>\n",
              "      <td>27.923077</td>\n",
              "      <td>40.283568</td>\n",
              "      <td>41.365495</td>\n",
              "      <td>41.452769</td>\n",
              "      <td>41.871369</td>\n",
              "      <td>48.349057</td>\n",
              "      <td>46.758929</td>\n",
              "    </tr>\n",
              "    <tr>\n",
              "      <th>single</th>\n",
              "      <td>33.515821</td>\n",
              "      <td>34.646707</td>\n",
              "      <td>32.872838</td>\n",
              "      <td>34.183554</td>\n",
              "      <td>36.181034</td>\n",
              "      <td>34.227273</td>\n",
              "      <td>36.827586</td>\n",
              "      <td>39.711111</td>\n",
              "      <td>33.747405</td>\n",
              "      <td>34.697987</td>\n",
              "      <td>...</td>\n",
              "      <td>32.360927</td>\n",
              "      <td>31.863081</td>\n",
              "      <td>25.396509</td>\n",
              "      <td>27.742138</td>\n",
              "      <td>33.529248</td>\n",
              "      <td>35.008741</td>\n",
              "      <td>33.252101</td>\n",
              "      <td>33.940476</td>\n",
              "      <td>39.535714</td>\n",
              "      <td>37.161290</td>\n",
              "    </tr>\n",
              "    <tr>\n",
              "      <th>unknown</th>\n",
              "      <td>35.000000</td>\n",
              "      <td>31.000000</td>\n",
              "      <td>43.800000</td>\n",
              "      <td>42.000000</td>\n",
              "      <td>40.000000</td>\n",
              "      <td>31.000000</td>\n",
              "      <td>40.000000</td>\n",
              "      <td>NaN</td>\n",
              "      <td>NaN</td>\n",
              "      <td>51.000000</td>\n",
              "      <td>...</td>\n",
              "      <td>34.500000</td>\n",
              "      <td>42.750000</td>\n",
              "      <td>30.000000</td>\n",
              "      <td>NaN</td>\n",
              "      <td>30.285714</td>\n",
              "      <td>40.333333</td>\n",
              "      <td>46.500000</td>\n",
              "      <td>50.000000</td>\n",
              "      <td>48.333333</td>\n",
              "      <td>32.000000</td>\n",
              "    </tr>\n",
              "    <tr>\n",
              "      <th rowspan=\"4\" valign=\"top\">yes</th>\n",
              "      <th>divorced</th>\n",
              "      <td>45.028302</td>\n",
              "      <td>44.269231</td>\n",
              "      <td>41.500000</td>\n",
              "      <td>43.400000</td>\n",
              "      <td>45.333333</td>\n",
              "      <td>44.000000</td>\n",
              "      <td>59.857143</td>\n",
              "      <td>37.000000</td>\n",
              "      <td>46.297297</td>\n",
              "      <td>54.000000</td>\n",
              "      <td>...</td>\n",
              "      <td>43.083333</td>\n",
              "      <td>44.555556</td>\n",
              "      <td>35.666667</td>\n",
              "      <td>NaN</td>\n",
              "      <td>40.701754</td>\n",
              "      <td>41.000000</td>\n",
              "      <td>51.000000</td>\n",
              "      <td>40.666667</td>\n",
              "      <td>76.333333</td>\n",
              "      <td>NaN</td>\n",
              "    </tr>\n",
              "    <tr>\n",
              "      <th>married</th>\n",
              "      <td>41.362832</td>\n",
              "      <td>41.540230</td>\n",
              "      <td>41.682432</td>\n",
              "      <td>40.608000</td>\n",
              "      <td>44.177419</td>\n",
              "      <td>40.500000</td>\n",
              "      <td>55.375000</td>\n",
              "      <td>50.777778</td>\n",
              "      <td>45.401099</td>\n",
              "      <td>42.090909</td>\n",
              "      <td>...</td>\n",
              "      <td>38.634921</td>\n",
              "      <td>37.575000</td>\n",
              "      <td>30.333333</td>\n",
              "      <td>34.000000</td>\n",
              "      <td>41.299065</td>\n",
              "      <td>41.904762</td>\n",
              "      <td>42.746479</td>\n",
              "      <td>38.133333</td>\n",
              "      <td>58.181818</td>\n",
              "      <td>60.000000</td>\n",
              "    </tr>\n",
              "    <tr>\n",
              "      <th>single</th>\n",
              "      <td>32.117284</td>\n",
              "      <td>34.150000</td>\n",
              "      <td>31.934426</td>\n",
              "      <td>34.897436</td>\n",
              "      <td>35.117647</td>\n",
              "      <td>38.000000</td>\n",
              "      <td>40.769231</td>\n",
              "      <td>41.333333</td>\n",
              "      <td>32.763636</td>\n",
              "      <td>36.875000</td>\n",
              "      <td>...</td>\n",
              "      <td>30.846154</td>\n",
              "      <td>31.950000</td>\n",
              "      <td>24.174468</td>\n",
              "      <td>26.965517</td>\n",
              "      <td>31.995902</td>\n",
              "      <td>32.657143</td>\n",
              "      <td>32.355556</td>\n",
              "      <td>27.666667</td>\n",
              "      <td>31.000000</td>\n",
              "      <td>28.000000</td>\n",
              "    </tr>\n",
              "    <tr>\n",
              "      <th>unknown</th>\n",
              "      <td>42.500000</td>\n",
              "      <td>NaN</td>\n",
              "      <td>37.000000</td>\n",
              "      <td>NaN</td>\n",
              "      <td>31.000000</td>\n",
              "      <td>NaN</td>\n",
              "      <td>NaN</td>\n",
              "      <td>NaN</td>\n",
              "      <td>NaN</td>\n",
              "      <td>NaN</td>\n",
              "      <td>...</td>\n",
              "      <td>NaN</td>\n",
              "      <td>NaN</td>\n",
              "      <td>NaN</td>\n",
              "      <td>NaN</td>\n",
              "      <td>30.000000</td>\n",
              "      <td>NaN</td>\n",
              "      <td>NaN</td>\n",
              "      <td>NaN</td>\n",
              "      <td>45.000000</td>\n",
              "      <td>32.000000</td>\n",
              "    </tr>\n",
              "  </tbody>\n",
              "</table>\n",
              "<p>8 rows × 24 columns</p>\n",
              "</div>"
            ],
            "text/plain": [
              "job              admin.            blue-collar            entrepreneur  \\\n",
              "contact        cellular  telephone    cellular  telephone     cellular   \n",
              "y   marital                                                              \n",
              "no  divorced  43.143639  43.019185   42.906907  42.900585    43.301887   \n",
              "    married   40.349554  39.800357   41.182477  40.494249    42.213628   \n",
              "    single    33.515821  34.646707   32.872838  34.183554    36.181034   \n",
              "    unknown   35.000000  31.000000   43.800000  42.000000    40.000000   \n",
              "yes divorced  45.028302  44.269231   41.500000  43.400000    45.333333   \n",
              "    married   41.362832  41.540230   41.682432  40.608000    44.177419   \n",
              "    single    32.117284  34.150000   31.934426  34.897436    35.117647   \n",
              "    unknown   42.500000        NaN   37.000000        NaN    31.000000   \n",
              "\n",
              "job                      housemaid            management             \\\n",
              "contact       telephone   cellular  telephone   cellular  telephone   \n",
              "y   marital                                                           \n",
              "no  divorced  45.372881  48.292683  49.476190  44.786164  47.721805   \n",
              "    married   42.802273  45.900966  43.342561  43.740678  43.452416   \n",
              "    single    34.227273  36.827586  39.711111  33.747405  34.697987   \n",
              "    unknown   31.000000  40.000000        NaN        NaN  51.000000   \n",
              "yes divorced  44.000000  59.857143  37.000000  46.297297  54.000000   \n",
              "    married   40.500000  55.375000  50.777778  45.401099  42.090909   \n",
              "    single    38.000000  40.769231  41.333333  32.763636  36.875000   \n",
              "    unknown         NaN        NaN        NaN        NaN        NaN   \n",
              "\n",
              "job             ...       services               student             \\\n",
              "contact         ...       cellular  telephone   cellular  telephone   \n",
              "y   marital     ...                                                   \n",
              "no  divorced    ...      42.028269  41.944444  36.000000  27.000000   \n",
              "    married     ...      40.483733  39.395833  32.150000  27.923077   \n",
              "    single      ...      32.360927  31.863081  25.396509  27.742138   \n",
              "    unknown     ...      34.500000  42.750000  30.000000        NaN   \n",
              "yes divorced    ...      43.083333  44.555556  35.666667        NaN   \n",
              "    married     ...      38.634921  37.575000  30.333333  34.000000   \n",
              "    single      ...      30.846154  31.950000  24.174468  26.965517   \n",
              "    unknown     ...            NaN        NaN        NaN        NaN   \n",
              "\n",
              "job          technician            unemployed               unknown             \n",
              "contact        cellular  telephone   cellular  telephone   cellular  telephone  \n",
              "y   marital                                                                     \n",
              "no  divorced  42.069034  42.435644  42.253731  41.978723  46.000000  40.600000  \n",
              "    married   40.283568  41.365495  41.452769  41.871369  48.349057  46.758929  \n",
              "    single    33.529248  35.008741  33.252101  33.940476  39.535714  37.161290  \n",
              "    unknown   30.285714  40.333333  46.500000  50.000000  48.333333  32.000000  \n",
              "yes divorced  40.701754  41.000000  51.000000  40.666667  76.333333        NaN  \n",
              "    married   41.299065  41.904762  42.746479  38.133333  58.181818  60.000000  \n",
              "    single    31.995902  32.657143  32.355556  27.666667  31.000000  28.000000  \n",
              "    unknown   30.000000        NaN        NaN        NaN  45.000000  32.000000  \n",
              "\n",
              "[8 rows x 24 columns]"
            ]
          },
          "execution_count": 95,
          "metadata": {},
          "output_type": "execute_result"
        }
      ],
      "source": [
        "#멀티 인덱스(multi-index) - 열 인덱스\n",
        "#['job','contact']\n",
        "pd.pivot_table(df,'age',['y','marital'],['job','contact'],aggfunc='mean')"
      ]
    },
    {
      "cell_type": "code",
      "execution_count": null,
      "metadata": {
        "scrolled": true,
        "id": "GLA_k7wN5zXF",
        "outputId": "d0242a1b-6742-445f-b482-39b4809054dd"
      },
      "outputs": [
        {
          "data": {
            "text/html": [
              "<div>\n",
              "<style scoped>\n",
              "    .dataframe tbody tr th:only-of-type {\n",
              "        vertical-align: middle;\n",
              "    }\n",
              "\n",
              "    .dataframe tbody tr th {\n",
              "        vertical-align: top;\n",
              "    }\n",
              "\n",
              "    .dataframe thead tr th {\n",
              "        text-align: left;\n",
              "    }\n",
              "\n",
              "    .dataframe thead tr:last-of-type th {\n",
              "        text-align: right;\n",
              "    }\n",
              "</style>\n",
              "<table border=\"1\" class=\"dataframe\">\n",
              "  <thead>\n",
              "    <tr>\n",
              "      <th></th>\n",
              "      <th>job</th>\n",
              "      <th colspan=\"2\" halign=\"left\">admin.</th>\n",
              "      <th colspan=\"2\" halign=\"left\">blue-collar</th>\n",
              "      <th colspan=\"2\" halign=\"left\">entrepreneur</th>\n",
              "      <th colspan=\"2\" halign=\"left\">housemaid</th>\n",
              "      <th colspan=\"2\" halign=\"left\">management</th>\n",
              "      <th>...</th>\n",
              "      <th colspan=\"2\" halign=\"left\">services</th>\n",
              "      <th colspan=\"2\" halign=\"left\">student</th>\n",
              "      <th colspan=\"2\" halign=\"left\">technician</th>\n",
              "      <th colspan=\"2\" halign=\"left\">unemployed</th>\n",
              "      <th colspan=\"2\" halign=\"left\">unknown</th>\n",
              "    </tr>\n",
              "    <tr>\n",
              "      <th></th>\n",
              "      <th>contact</th>\n",
              "      <th>cellular</th>\n",
              "      <th>telephone</th>\n",
              "      <th>cellular</th>\n",
              "      <th>telephone</th>\n",
              "      <th>cellular</th>\n",
              "      <th>telephone</th>\n",
              "      <th>cellular</th>\n",
              "      <th>telephone</th>\n",
              "      <th>cellular</th>\n",
              "      <th>telephone</th>\n",
              "      <th>...</th>\n",
              "      <th>cellular</th>\n",
              "      <th>telephone</th>\n",
              "      <th>cellular</th>\n",
              "      <th>telephone</th>\n",
              "      <th>cellular</th>\n",
              "      <th>telephone</th>\n",
              "      <th>cellular</th>\n",
              "      <th>telephone</th>\n",
              "      <th>cellular</th>\n",
              "      <th>telephone</th>\n",
              "    </tr>\n",
              "    <tr>\n",
              "      <th>y</th>\n",
              "      <th>marital</th>\n",
              "      <th></th>\n",
              "      <th></th>\n",
              "      <th></th>\n",
              "      <th></th>\n",
              "      <th></th>\n",
              "      <th></th>\n",
              "      <th></th>\n",
              "      <th></th>\n",
              "      <th></th>\n",
              "      <th></th>\n",
              "      <th></th>\n",
              "      <th></th>\n",
              "      <th></th>\n",
              "      <th></th>\n",
              "      <th></th>\n",
              "      <th></th>\n",
              "      <th></th>\n",
              "      <th></th>\n",
              "      <th></th>\n",
              "      <th></th>\n",
              "      <th></th>\n",
              "    </tr>\n",
              "  </thead>\n",
              "  <tbody>\n",
              "    <tr>\n",
              "      <th rowspan=\"4\" valign=\"top\">no</th>\n",
              "      <th>divorced</th>\n",
              "      <td>43.143639</td>\n",
              "      <td>43.019185</td>\n",
              "      <td>42.906907</td>\n",
              "      <td>42.900585</td>\n",
              "      <td>43.301887</td>\n",
              "      <td>45.372881</td>\n",
              "      <td>48.292683</td>\n",
              "      <td>49.476190</td>\n",
              "      <td>44.786164</td>\n",
              "      <td>47.721805</td>\n",
              "      <td>...</td>\n",
              "      <td>42.028269</td>\n",
              "      <td>41.944444</td>\n",
              "      <td>36.000000</td>\n",
              "      <td>27.000000</td>\n",
              "      <td>42.069034</td>\n",
              "      <td>42.435644</td>\n",
              "      <td>42.253731</td>\n",
              "      <td>41.978723</td>\n",
              "      <td>46.000000</td>\n",
              "      <td>40.600000</td>\n",
              "    </tr>\n",
              "    <tr>\n",
              "      <th>married</th>\n",
              "      <td>40.349554</td>\n",
              "      <td>39.800357</td>\n",
              "      <td>41.182477</td>\n",
              "      <td>40.494249</td>\n",
              "      <td>42.213628</td>\n",
              "      <td>42.802273</td>\n",
              "      <td>45.900966</td>\n",
              "      <td>43.342561</td>\n",
              "      <td>43.740678</td>\n",
              "      <td>43.452416</td>\n",
              "      <td>...</td>\n",
              "      <td>40.483733</td>\n",
              "      <td>39.395833</td>\n",
              "      <td>32.150000</td>\n",
              "      <td>27.923077</td>\n",
              "      <td>40.283568</td>\n",
              "      <td>41.365495</td>\n",
              "      <td>41.452769</td>\n",
              "      <td>41.871369</td>\n",
              "      <td>48.349057</td>\n",
              "      <td>46.758929</td>\n",
              "    </tr>\n",
              "    <tr>\n",
              "      <th>single</th>\n",
              "      <td>33.515821</td>\n",
              "      <td>34.646707</td>\n",
              "      <td>32.872838</td>\n",
              "      <td>34.183554</td>\n",
              "      <td>36.181034</td>\n",
              "      <td>34.227273</td>\n",
              "      <td>36.827586</td>\n",
              "      <td>39.711111</td>\n",
              "      <td>33.747405</td>\n",
              "      <td>34.697987</td>\n",
              "      <td>...</td>\n",
              "      <td>32.360927</td>\n",
              "      <td>31.863081</td>\n",
              "      <td>25.396509</td>\n",
              "      <td>27.742138</td>\n",
              "      <td>33.529248</td>\n",
              "      <td>35.008741</td>\n",
              "      <td>33.252101</td>\n",
              "      <td>33.940476</td>\n",
              "      <td>39.535714</td>\n",
              "      <td>37.161290</td>\n",
              "    </tr>\n",
              "    <tr>\n",
              "      <th>unknown</th>\n",
              "      <td>35.000000</td>\n",
              "      <td>31.000000</td>\n",
              "      <td>43.800000</td>\n",
              "      <td>42.000000</td>\n",
              "      <td>40.000000</td>\n",
              "      <td>31.000000</td>\n",
              "      <td>40.000000</td>\n",
              "      <td>0.000000</td>\n",
              "      <td>0.000000</td>\n",
              "      <td>51.000000</td>\n",
              "      <td>...</td>\n",
              "      <td>34.500000</td>\n",
              "      <td>42.750000</td>\n",
              "      <td>30.000000</td>\n",
              "      <td>0.000000</td>\n",
              "      <td>30.285714</td>\n",
              "      <td>40.333333</td>\n",
              "      <td>46.500000</td>\n",
              "      <td>50.000000</td>\n",
              "      <td>48.333333</td>\n",
              "      <td>32.000000</td>\n",
              "    </tr>\n",
              "    <tr>\n",
              "      <th rowspan=\"4\" valign=\"top\">yes</th>\n",
              "      <th>divorced</th>\n",
              "      <td>45.028302</td>\n",
              "      <td>44.269231</td>\n",
              "      <td>41.500000</td>\n",
              "      <td>43.400000</td>\n",
              "      <td>45.333333</td>\n",
              "      <td>44.000000</td>\n",
              "      <td>59.857143</td>\n",
              "      <td>37.000000</td>\n",
              "      <td>46.297297</td>\n",
              "      <td>54.000000</td>\n",
              "      <td>...</td>\n",
              "      <td>43.083333</td>\n",
              "      <td>44.555556</td>\n",
              "      <td>35.666667</td>\n",
              "      <td>0.000000</td>\n",
              "      <td>40.701754</td>\n",
              "      <td>41.000000</td>\n",
              "      <td>51.000000</td>\n",
              "      <td>40.666667</td>\n",
              "      <td>76.333333</td>\n",
              "      <td>0.000000</td>\n",
              "    </tr>\n",
              "    <tr>\n",
              "      <th>married</th>\n",
              "      <td>41.362832</td>\n",
              "      <td>41.540230</td>\n",
              "      <td>41.682432</td>\n",
              "      <td>40.608000</td>\n",
              "      <td>44.177419</td>\n",
              "      <td>40.500000</td>\n",
              "      <td>55.375000</td>\n",
              "      <td>50.777778</td>\n",
              "      <td>45.401099</td>\n",
              "      <td>42.090909</td>\n",
              "      <td>...</td>\n",
              "      <td>38.634921</td>\n",
              "      <td>37.575000</td>\n",
              "      <td>30.333333</td>\n",
              "      <td>34.000000</td>\n",
              "      <td>41.299065</td>\n",
              "      <td>41.904762</td>\n",
              "      <td>42.746479</td>\n",
              "      <td>38.133333</td>\n",
              "      <td>58.181818</td>\n",
              "      <td>60.000000</td>\n",
              "    </tr>\n",
              "    <tr>\n",
              "      <th>single</th>\n",
              "      <td>32.117284</td>\n",
              "      <td>34.150000</td>\n",
              "      <td>31.934426</td>\n",
              "      <td>34.897436</td>\n",
              "      <td>35.117647</td>\n",
              "      <td>38.000000</td>\n",
              "      <td>40.769231</td>\n",
              "      <td>41.333333</td>\n",
              "      <td>32.763636</td>\n",
              "      <td>36.875000</td>\n",
              "      <td>...</td>\n",
              "      <td>30.846154</td>\n",
              "      <td>31.950000</td>\n",
              "      <td>24.174468</td>\n",
              "      <td>26.965517</td>\n",
              "      <td>31.995902</td>\n",
              "      <td>32.657143</td>\n",
              "      <td>32.355556</td>\n",
              "      <td>27.666667</td>\n",
              "      <td>31.000000</td>\n",
              "      <td>28.000000</td>\n",
              "    </tr>\n",
              "    <tr>\n",
              "      <th>unknown</th>\n",
              "      <td>42.500000</td>\n",
              "      <td>0.000000</td>\n",
              "      <td>37.000000</td>\n",
              "      <td>0.000000</td>\n",
              "      <td>31.000000</td>\n",
              "      <td>0.000000</td>\n",
              "      <td>0.000000</td>\n",
              "      <td>0.000000</td>\n",
              "      <td>0.000000</td>\n",
              "      <td>0.000000</td>\n",
              "      <td>...</td>\n",
              "      <td>0.000000</td>\n",
              "      <td>0.000000</td>\n",
              "      <td>0.000000</td>\n",
              "      <td>0.000000</td>\n",
              "      <td>30.000000</td>\n",
              "      <td>0.000000</td>\n",
              "      <td>0.000000</td>\n",
              "      <td>0.000000</td>\n",
              "      <td>45.000000</td>\n",
              "      <td>32.000000</td>\n",
              "    </tr>\n",
              "  </tbody>\n",
              "</table>\n",
              "<p>8 rows × 24 columns</p>\n",
              "</div>"
            ],
            "text/plain": [
              "job              admin.            blue-collar            entrepreneur  \\\n",
              "contact        cellular  telephone    cellular  telephone     cellular   \n",
              "y   marital                                                              \n",
              "no  divorced  43.143639  43.019185   42.906907  42.900585    43.301887   \n",
              "    married   40.349554  39.800357   41.182477  40.494249    42.213628   \n",
              "    single    33.515821  34.646707   32.872838  34.183554    36.181034   \n",
              "    unknown   35.000000  31.000000   43.800000  42.000000    40.000000   \n",
              "yes divorced  45.028302  44.269231   41.500000  43.400000    45.333333   \n",
              "    married   41.362832  41.540230   41.682432  40.608000    44.177419   \n",
              "    single    32.117284  34.150000   31.934426  34.897436    35.117647   \n",
              "    unknown   42.500000   0.000000   37.000000   0.000000    31.000000   \n",
              "\n",
              "job                      housemaid            management             \\\n",
              "contact       telephone   cellular  telephone   cellular  telephone   \n",
              "y   marital                                                           \n",
              "no  divorced  45.372881  48.292683  49.476190  44.786164  47.721805   \n",
              "    married   42.802273  45.900966  43.342561  43.740678  43.452416   \n",
              "    single    34.227273  36.827586  39.711111  33.747405  34.697987   \n",
              "    unknown   31.000000  40.000000   0.000000   0.000000  51.000000   \n",
              "yes divorced  44.000000  59.857143  37.000000  46.297297  54.000000   \n",
              "    married   40.500000  55.375000  50.777778  45.401099  42.090909   \n",
              "    single    38.000000  40.769231  41.333333  32.763636  36.875000   \n",
              "    unknown    0.000000   0.000000   0.000000   0.000000   0.000000   \n",
              "\n",
              "job             ...       services               student             \\\n",
              "contact         ...       cellular  telephone   cellular  telephone   \n",
              "y   marital     ...                                                   \n",
              "no  divorced    ...      42.028269  41.944444  36.000000  27.000000   \n",
              "    married     ...      40.483733  39.395833  32.150000  27.923077   \n",
              "    single      ...      32.360927  31.863081  25.396509  27.742138   \n",
              "    unknown     ...      34.500000  42.750000  30.000000   0.000000   \n",
              "yes divorced    ...      43.083333  44.555556  35.666667   0.000000   \n",
              "    married     ...      38.634921  37.575000  30.333333  34.000000   \n",
              "    single      ...      30.846154  31.950000  24.174468  26.965517   \n",
              "    unknown     ...       0.000000   0.000000   0.000000   0.000000   \n",
              "\n",
              "job          technician            unemployed               unknown             \n",
              "contact        cellular  telephone   cellular  telephone   cellular  telephone  \n",
              "y   marital                                                                     \n",
              "no  divorced  42.069034  42.435644  42.253731  41.978723  46.000000  40.600000  \n",
              "    married   40.283568  41.365495  41.452769  41.871369  48.349057  46.758929  \n",
              "    single    33.529248  35.008741  33.252101  33.940476  39.535714  37.161290  \n",
              "    unknown   30.285714  40.333333  46.500000  50.000000  48.333333  32.000000  \n",
              "yes divorced  40.701754  41.000000  51.000000  40.666667  76.333333   0.000000  \n",
              "    married   41.299065  41.904762  42.746479  38.133333  58.181818  60.000000  \n",
              "    single    31.995902  32.657143  32.355556  27.666667  31.000000  28.000000  \n",
              "    unknown   30.000000   0.000000   0.000000   0.000000  45.000000  32.000000  \n",
              "\n",
              "[8 rows x 24 columns]"
            ]
          },
          "execution_count": 96,
          "metadata": {},
          "output_type": "execute_result"
        }
      ],
      "source": [
        "#fill-value - 결측치 대체\n",
        "#fill_value=0\n",
        "pd.pivot_table(df,'age',['y','marital'],['job','contact'],aggfunc='mean',fill_value=0)"
      ]
    },
    {
      "cell_type": "markdown",
      "metadata": {
        "id": "SL-0wrqg5zXF"
      },
      "source": [
        "# pivot_table를 사용한 주제2 분석\n",
        "#### 같은 상품을 새로운 고객에게 마케팅 하려고한다. \n",
        "#### 연령과 상품가입여부, 직업을 함께 고려할때 마케팅 전략을 변화시켜야 할 그룹은?\n"
      ]
    },
    {
      "cell_type": "code",
      "execution_count": null,
      "metadata": {
        "id": "szzzc7dx5zXF"
      },
      "outputs": [],
      "source": [
        "#pivot_table\n",
        "pivot=pd.pivot_table(df,values='age',index='y',columns='job',aggfunc='mean')"
      ]
    },
    {
      "cell_type": "code",
      "execution_count": null,
      "metadata": {
        "scrolled": true,
        "id": "8uhPOs9P5zXF",
        "outputId": "ba61a833-4d9b-4a58-e829-72c86b2aae4c"
      },
      "outputs": [
        {
          "data": {
            "text/html": [
              "<div>\n",
              "<style scoped>\n",
              "    .dataframe tbody tr th:only-of-type {\n",
              "        vertical-align: middle;\n",
              "    }\n",
              "\n",
              "    .dataframe tbody tr th {\n",
              "        vertical-align: top;\n",
              "    }\n",
              "\n",
              "    .dataframe thead th {\n",
              "        text-align: right;\n",
              "    }\n",
              "</style>\n",
              "<table border=\"1\" class=\"dataframe\">\n",
              "  <thead>\n",
              "    <tr style=\"text-align: right;\">\n",
              "      <th>job</th>\n",
              "      <th>admin.</th>\n",
              "      <th>blue-collar</th>\n",
              "      <th>entrepreneur</th>\n",
              "      <th>housemaid</th>\n",
              "      <th>management</th>\n",
              "      <th>retired</th>\n",
              "      <th>self-employed</th>\n",
              "      <th>services</th>\n",
              "      <th>student</th>\n",
              "      <th>technician</th>\n",
              "      <th>unemployed</th>\n",
              "      <th>unknown</th>\n",
              "    </tr>\n",
              "    <tr>\n",
              "      <th>y</th>\n",
              "      <th></th>\n",
              "      <th></th>\n",
              "      <th></th>\n",
              "      <th></th>\n",
              "      <th></th>\n",
              "      <th></th>\n",
              "      <th></th>\n",
              "      <th></th>\n",
              "      <th></th>\n",
              "      <th></th>\n",
              "      <th></th>\n",
              "      <th></th>\n",
              "    </tr>\n",
              "  </thead>\n",
              "  <tbody>\n",
              "    <tr>\n",
              "      <th>no</th>\n",
              "      <td>38.219846</td>\n",
              "      <td>39.582057</td>\n",
              "      <td>41.703453</td>\n",
              "      <td>44.705451</td>\n",
              "      <td>42.309707</td>\n",
              "      <td>59.926128</td>\n",
              "      <td>40.176887</td>\n",
              "      <td>38.090236</td>\n",
              "      <td>26.396667</td>\n",
              "      <td>38.600033</td>\n",
              "      <td>39.844828</td>\n",
              "      <td>45.375427</td>\n",
              "    </tr>\n",
              "    <tr>\n",
              "      <th>yes</th>\n",
              "      <td>37.968935</td>\n",
              "      <td>39.200627</td>\n",
              "      <td>41.935484</td>\n",
              "      <td>52.650943</td>\n",
              "      <td>42.783537</td>\n",
              "      <td>68.253456</td>\n",
              "      <td>38.006711</td>\n",
              "      <td>36.077399</td>\n",
              "      <td>24.800000</td>\n",
              "      <td>37.746575</td>\n",
              "      <td>39.062500</td>\n",
              "      <td>47.054054</td>\n",
              "    </tr>\n",
              "  </tbody>\n",
              "</table>\n",
              "</div>"
            ],
            "text/plain": [
              "job     admin.  blue-collar  entrepreneur  housemaid  management    retired  \\\n",
              "y                                                                             \n",
              "no   38.219846    39.582057     41.703453  44.705451   42.309707  59.926128   \n",
              "yes  37.968935    39.200627     41.935484  52.650943   42.783537  68.253456   \n",
              "\n",
              "job  self-employed   services    student  technician  unemployed    unknown  \n",
              "y                                                                            \n",
              "no       40.176887  38.090236  26.396667   38.600033   39.844828  45.375427  \n",
              "yes      38.006711  36.077399  24.800000   37.746575   39.062500  47.054054  "
            ]
          },
          "execution_count": 98,
          "metadata": {},
          "output_type": "execute_result"
        }
      ],
      "source": [
        "#pivot 변수 출력\n",
        "pivot"
      ]
    },
    {
      "cell_type": "code",
      "execution_count": null,
      "metadata": {
        "id": "87p19GkI5zXG",
        "outputId": "64042ad1-56e0-426f-e267-4f1a5364210e"
      },
      "outputs": [
        {
          "data": {
            "text/plain": [
              "job\n",
              "admin.          -0.250911\n",
              "blue-collar     -0.381430\n",
              "entrepreneur     0.232030\n",
              "housemaid        7.945493\n",
              "management       0.473829\n",
              "retired          8.327329\n",
              "self-employed   -2.170175\n",
              "services        -2.012836\n",
              "student         -1.596667\n",
              "technician      -0.853458\n",
              "unemployed      -0.782328\n",
              "unknown          1.678627\n",
              "dtype: float64"
            ]
          },
          "execution_count": 99,
          "metadata": {},
          "output_type": "execute_result"
        }
      ],
      "source": [
        "#yes행과 no행의 차 연산(loc인덱서 사용)\n",
        "pivot.loc['yes']-pivot.loc['no']"
      ]
    },
    {
      "cell_type": "code",
      "execution_count": null,
      "metadata": {
        "id": "EP9a-3Vm5zXG"
      },
      "outputs": [],
      "source": [
        "#diff행 생성(yes행과 no행의 차)\n",
        "pivot.loc['diff']=pivot.loc['yes']-pivot.loc['no']"
      ]
    },
    {
      "cell_type": "code",
      "execution_count": null,
      "metadata": {
        "id": "LeVL-Bwi5zXG",
        "outputId": "7d0a4403-b3a5-4083-f625-2783cfcaf480"
      },
      "outputs": [
        {
          "data": {
            "text/html": [
              "<div>\n",
              "<style scoped>\n",
              "    .dataframe tbody tr th:only-of-type {\n",
              "        vertical-align: middle;\n",
              "    }\n",
              "\n",
              "    .dataframe tbody tr th {\n",
              "        vertical-align: top;\n",
              "    }\n",
              "\n",
              "    .dataframe thead th {\n",
              "        text-align: right;\n",
              "    }\n",
              "</style>\n",
              "<table border=\"1\" class=\"dataframe\">\n",
              "  <thead>\n",
              "    <tr style=\"text-align: right;\">\n",
              "      <th>job</th>\n",
              "      <th>admin.</th>\n",
              "      <th>blue-collar</th>\n",
              "      <th>entrepreneur</th>\n",
              "      <th>housemaid</th>\n",
              "      <th>management</th>\n",
              "      <th>retired</th>\n",
              "      <th>self-employed</th>\n",
              "      <th>services</th>\n",
              "      <th>student</th>\n",
              "      <th>technician</th>\n",
              "      <th>unemployed</th>\n",
              "      <th>unknown</th>\n",
              "    </tr>\n",
              "    <tr>\n",
              "      <th>y</th>\n",
              "      <th></th>\n",
              "      <th></th>\n",
              "      <th></th>\n",
              "      <th></th>\n",
              "      <th></th>\n",
              "      <th></th>\n",
              "      <th></th>\n",
              "      <th></th>\n",
              "      <th></th>\n",
              "      <th></th>\n",
              "      <th></th>\n",
              "      <th></th>\n",
              "    </tr>\n",
              "  </thead>\n",
              "  <tbody>\n",
              "    <tr>\n",
              "      <th>no</th>\n",
              "      <td>38.219846</td>\n",
              "      <td>39.582057</td>\n",
              "      <td>41.703453</td>\n",
              "      <td>44.705451</td>\n",
              "      <td>42.309707</td>\n",
              "      <td>59.926128</td>\n",
              "      <td>40.176887</td>\n",
              "      <td>38.090236</td>\n",
              "      <td>26.396667</td>\n",
              "      <td>38.600033</td>\n",
              "      <td>39.844828</td>\n",
              "      <td>45.375427</td>\n",
              "    </tr>\n",
              "    <tr>\n",
              "      <th>yes</th>\n",
              "      <td>37.968935</td>\n",
              "      <td>39.200627</td>\n",
              "      <td>41.935484</td>\n",
              "      <td>52.650943</td>\n",
              "      <td>42.783537</td>\n",
              "      <td>68.253456</td>\n",
              "      <td>38.006711</td>\n",
              "      <td>36.077399</td>\n",
              "      <td>24.800000</td>\n",
              "      <td>37.746575</td>\n",
              "      <td>39.062500</td>\n",
              "      <td>47.054054</td>\n",
              "    </tr>\n",
              "    <tr>\n",
              "      <th>diff</th>\n",
              "      <td>-0.250911</td>\n",
              "      <td>-0.381430</td>\n",
              "      <td>0.232030</td>\n",
              "      <td>7.945493</td>\n",
              "      <td>0.473829</td>\n",
              "      <td>8.327329</td>\n",
              "      <td>-2.170175</td>\n",
              "      <td>-2.012836</td>\n",
              "      <td>-1.596667</td>\n",
              "      <td>-0.853458</td>\n",
              "      <td>-0.782328</td>\n",
              "      <td>1.678627</td>\n",
              "    </tr>\n",
              "  </tbody>\n",
              "</table>\n",
              "</div>"
            ],
            "text/plain": [
              "job      admin.  blue-collar  entrepreneur  housemaid  management    retired  \\\n",
              "y                                                                              \n",
              "no    38.219846    39.582057     41.703453  44.705451   42.309707  59.926128   \n",
              "yes   37.968935    39.200627     41.935484  52.650943   42.783537  68.253456   \n",
              "diff  -0.250911    -0.381430      0.232030   7.945493    0.473829   8.327329   \n",
              "\n",
              "job   self-employed   services    student  technician  unemployed    unknown  \n",
              "y                                                                             \n",
              "no        40.176887  38.090236  26.396667   38.600033   39.844828  45.375427  \n",
              "yes       38.006711  36.077399  24.800000   37.746575   39.062500  47.054054  \n",
              "diff      -2.170175  -2.012836  -1.596667   -0.853458   -0.782328   1.678627  "
            ]
          },
          "execution_count": 101,
          "metadata": {},
          "output_type": "execute_result"
        }
      ],
      "source": [
        "#pivot 변수 출력\n",
        "pivot"
      ]
    },
    {
      "cell_type": "code",
      "execution_count": null,
      "metadata": {
        "id": "zO6XK85G5zXG"
      },
      "outputs": [],
      "source": [
        "#diff 기준으로 내림차순 정렬 \n",
        "#sort_values() - default : 열 기준 오름차순 정렬\n",
        "#axis=1,ascending=False : 행 기준 내림차순 정렬\n",
        "result=pivot.sort_values('diff',axis=1,ascending=False)"
      ]
    },
    {
      "cell_type": "code",
      "execution_count": null,
      "metadata": {
        "id": "hoxkiIGX5zXG",
        "outputId": "20346963-e5d3-46f7-bcb2-2b8d03aa4318"
      },
      "outputs": [
        {
          "data": {
            "text/html": [
              "<div>\n",
              "<style scoped>\n",
              "    .dataframe tbody tr th:only-of-type {\n",
              "        vertical-align: middle;\n",
              "    }\n",
              "\n",
              "    .dataframe tbody tr th {\n",
              "        vertical-align: top;\n",
              "    }\n",
              "\n",
              "    .dataframe thead th {\n",
              "        text-align: right;\n",
              "    }\n",
              "</style>\n",
              "<table border=\"1\" class=\"dataframe\">\n",
              "  <thead>\n",
              "    <tr style=\"text-align: right;\">\n",
              "      <th>job</th>\n",
              "      <th>retired</th>\n",
              "      <th>housemaid</th>\n",
              "      <th>unknown</th>\n",
              "      <th>management</th>\n",
              "      <th>entrepreneur</th>\n",
              "      <th>admin.</th>\n",
              "      <th>blue-collar</th>\n",
              "      <th>unemployed</th>\n",
              "      <th>technician</th>\n",
              "      <th>student</th>\n",
              "      <th>services</th>\n",
              "      <th>self-employed</th>\n",
              "    </tr>\n",
              "    <tr>\n",
              "      <th>y</th>\n",
              "      <th></th>\n",
              "      <th></th>\n",
              "      <th></th>\n",
              "      <th></th>\n",
              "      <th></th>\n",
              "      <th></th>\n",
              "      <th></th>\n",
              "      <th></th>\n",
              "      <th></th>\n",
              "      <th></th>\n",
              "      <th></th>\n",
              "      <th></th>\n",
              "    </tr>\n",
              "  </thead>\n",
              "  <tbody>\n",
              "    <tr>\n",
              "      <th>no</th>\n",
              "      <td>59.926128</td>\n",
              "      <td>44.705451</td>\n",
              "      <td>45.375427</td>\n",
              "      <td>42.309707</td>\n",
              "      <td>41.703453</td>\n",
              "      <td>38.219846</td>\n",
              "      <td>39.582057</td>\n",
              "      <td>39.844828</td>\n",
              "      <td>38.600033</td>\n",
              "      <td>26.396667</td>\n",
              "      <td>38.090236</td>\n",
              "      <td>40.176887</td>\n",
              "    </tr>\n",
              "    <tr>\n",
              "      <th>yes</th>\n",
              "      <td>68.253456</td>\n",
              "      <td>52.650943</td>\n",
              "      <td>47.054054</td>\n",
              "      <td>42.783537</td>\n",
              "      <td>41.935484</td>\n",
              "      <td>37.968935</td>\n",
              "      <td>39.200627</td>\n",
              "      <td>39.062500</td>\n",
              "      <td>37.746575</td>\n",
              "      <td>24.800000</td>\n",
              "      <td>36.077399</td>\n",
              "      <td>38.006711</td>\n",
              "    </tr>\n",
              "    <tr>\n",
              "      <th>diff</th>\n",
              "      <td>8.327329</td>\n",
              "      <td>7.945493</td>\n",
              "      <td>1.678627</td>\n",
              "      <td>0.473829</td>\n",
              "      <td>0.232030</td>\n",
              "      <td>-0.250911</td>\n",
              "      <td>-0.381430</td>\n",
              "      <td>-0.782328</td>\n",
              "      <td>-0.853458</td>\n",
              "      <td>-1.596667</td>\n",
              "      <td>-2.012836</td>\n",
              "      <td>-2.170175</td>\n",
              "    </tr>\n",
              "  </tbody>\n",
              "</table>\n",
              "</div>"
            ],
            "text/plain": [
              "job     retired  housemaid    unknown  management  entrepreneur     admin.  \\\n",
              "y                                                                            \n",
              "no    59.926128  44.705451  45.375427   42.309707     41.703453  38.219846   \n",
              "yes   68.253456  52.650943  47.054054   42.783537     41.935484  37.968935   \n",
              "diff   8.327329   7.945493   1.678627    0.473829      0.232030  -0.250911   \n",
              "\n",
              "job   blue-collar  unemployed  technician    student   services  self-employed  \n",
              "y                                                                               \n",
              "no      39.582057   39.844828   38.600033  26.396667  38.090236      40.176887  \n",
              "yes     39.200627   39.062500   37.746575  24.800000  36.077399      38.006711  \n",
              "diff    -0.381430   -0.782328   -0.853458  -1.596667  -2.012836      -2.170175  "
            ]
          },
          "execution_count": 106,
          "metadata": {},
          "output_type": "execute_result"
        }
      ],
      "source": [
        "#result 출력\n",
        "result"
      ]
    },
    {
      "cell_type": "code",
      "execution_count": null,
      "metadata": {
        "id": "mJnx0Wbg5zXH",
        "outputId": "97ead6e6-57e2-4cbe-c017-8f80130e65b4"
      },
      "outputs": [
        {
          "data": {
            "image/png": "[encoded data removed]",
            "text/plain": [
              "<Figure size 432x288 with 1 Axes>"
            ]
          },
          "metadata": {
            "needs_background": "light"
          },
          "output_type": "display_data"
        }
      ],
      "source": [
        "#result의 diff행 막대그래프 시각화\n",
        "result.loc['diff'].plot.bar()\n",
        "plt.show()"
      ]
    },
    {
      "cell_type": "code",
      "execution_count": null,
      "metadata": {
        "id": "_hY5fGFV5zXH",
        "outputId": "4b6e195c-0113-4285-de73-cf9489cfe3d4"
      },
      "outputs": [
        {
          "data": {
            "image/png": "[encoded data removed]",
            "text/plain": [
              "<Figure size 1080x720 with 1 Axes>"
            ]
          },
          "metadata": {
            "needs_background": "light"
          },
          "output_type": "display_data"
        }
      ],
      "source": [
        "#result의 diff행 막대그래프 시각화\n",
        "#figsize=[15,10]\n",
        "#title('주제2 시각화',fontsize=20)\n",
        "#x축 눈금 - fontsize=16,rotation=45\n",
        "#y축 눈금 - fontsize=16)\n",
        "#xlabel - 'job',fontsize=16\n",
        "#ylabel - 'diff',fontsize=16\n",
        "\n",
        "result.loc['diff'].plot.bar(figsize=[15,10])\n",
        "plt.title('주제2 시각화',fontsize=20)\n",
        "plt.xticks(fontsize=16,rotation=45)\n",
        "plt.yticks(fontsize=16)\n",
        "plt.xlabel('job',fontsize=16)\n",
        "plt.ylabel('diff',fontsize=16)\n",
        "plt.show()"
      ]
    }
  ],
  "metadata": {
    "kernelspec": {
      "display_name": "Python 3",
      "language": "python",
      "name": "python3"
    },
    "language_info": {
      "codemirror_mode": {
        "name": "ipython",
        "version": 3
      },
      "file_extension": ".py",
      "mimetype": "text/x-python",
      "name": "python",
      "nbconvert_exporter": "python",
      "pygments_lexer": "ipython3",
      "version": "3.7.1"
    },
    "colab": {
      "provenance": [],
      "collapsed_sections": [
        "E6Fh7wil5zW9"
      ]
    }
  },
  "nbformat": 4,
  "nbformat_minor": 0
}